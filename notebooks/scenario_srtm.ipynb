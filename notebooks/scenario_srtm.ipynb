{
 "cells": [
  {
   "cell_type": "markdown",
   "id": "italian-fight",
   "metadata": {},
   "source": [
    "<img src=\"img/logo_demcompare.png\" width=\"100\" align=\"right\">\n",
    "\n",
    "# Demcompare: srtm scenario"
   ]
  },
  {
   "cell_type": "markdown",
   "id": "driven-consolidation",
   "metadata": {},
   "source": [
    "This notebook presents how to exploit the metrics and methods implemented in demcompare for a srtm DEM from data_samples.\n",
    "A srtm reference data is used as a reference and a manually blurred and shifted data is used as tested data."
   ]
  },
  {
   "cell_type": "markdown",
   "id": "regulation-brand",
   "metadata": {},
   "source": [
    "# Imports and external functions"
   ]
  },
  {
   "cell_type": "code",
   "execution_count": null,
   "id": "elementary-patent",
   "metadata": {},
   "outputs": [],
   "source": [
    "import pyproj # pyproj as first import is necessary"
   ]
  },
  {
   "cell_type": "code",
   "execution_count": null,
   "id": "center-angle",
   "metadata": {},
   "outputs": [],
   "source": [
    "from snippets.utils_notebook import *"
   ]
  },
  {
   "cell_type": "code",
   "execution_count": null,
   "id": "lasting-refrigerator",
   "metadata": {},
   "outputs": [],
   "source": [
    "from IPython.display import HTML, display\n",
    "import tabulate"
   ]
  },
  {
   "cell_type": "markdown",
   "id": "mounted-picture",
   "metadata": {},
   "source": [
    "# DEMs preparation"
   ]
  },
  {
   "cell_type": "code",
   "execution_count": null,
   "id": "83c2e327",
   "metadata": {},
   "outputs": [],
   "source": [
    "from demcompare.dem_tools import load_dem"
   ]
  },
  {
   "cell_type": "code",
   "execution_count": null,
   "id": "accessible-kidney",
   "metadata": {},
   "outputs": [],
   "source": [
    "input_ref_config = {\n",
    "            \"path\" : \"data/srtm/srtm_ref.tif\",\n",
    "            \"zunit\" : \"m\",\n",
    "            \"nodata\": -9999\n",
    "        }\n",
    "input_sec_config = {\n",
    "            \"path\" : \"data/srtm/srtm_blurred_and_shifted_res.tif\",\n",
    "            \"zunit\" : \"m\",\n",
    "            \"nodata\" : -32768,\n",
    "        }"
   ]
  },
  {
   "cell_type": "markdown",
   "id": "99c1de1d",
   "metadata": {},
   "source": [
    "Loading the DEMs"
   ]
  },
  {
   "cell_type": "code",
   "execution_count": null,
   "id": "latin-subscriber",
   "metadata": {},
   "outputs": [],
   "source": [
    "input_ref = load_dem(\n",
    "    path=input_ref_config[\"path\"], \n",
    "    zunit=input_ref_config[\"zunit\"],\n",
    ")\n",
    "\n",
    "input_sec = load_dem(\n",
    "    path=input_sec_config[\"path\"], \n",
    "    zunit=input_sec_config[\"zunit\"], \n",
    ")"
   ]
  },
  {
   "cell_type": "markdown",
   "id": "bce06302",
   "metadata": {},
   "source": [
    "DEMs should be coregistred to be aligned horizontally (see dedicated notebook for details)"
   ]
  },
  {
   "cell_type": "code",
   "execution_count": null,
   "id": "c5be1b78",
   "metadata": {},
   "outputs": [],
   "source": [
    "from demcompare.coregistration import Coregistration"
   ]
  },
  {
   "cell_type": "code",
   "execution_count": null,
   "id": "8ed2067e",
   "metadata": {},
   "outputs": [],
   "source": [
    "cfg = {\n",
    "    \"coregistration\": {\n",
    "        \"method_name\": \"nuth_kaab_internal\", #one method available for now\n",
    "        \"number_of_iterations\": 6,\n",
    "        \"estimated_initial_shift_x\": 0,\n",
    "        \"estimated_initial_shift_y\": 0,\n",
    "    }\n",
    "}"
   ]
  },
  {
   "cell_type": "code",
   "execution_count": null,
   "id": "d20f6c0e",
   "metadata": {},
   "outputs": [],
   "source": [
    "coregistration_ = Coregistration(cfg[\"coregistration\"])\n",
    "transformation = coregistration_.compute_coregistration(input_sec, input_ref)\n",
    "reproj_ref = coregistration_.reproj_ref\n",
    "reproj_sec = coregistration_.reproj_sec"
   ]
  },
  {
   "cell_type": "markdown",
   "id": "experimental-wrapping",
   "metadata": {},
   "source": [
    "Computing the slope for both DEMs with `compute_dem_slope`. The slope will be used to compute metrics."
   ]
  },
  {
   "cell_type": "code",
   "execution_count": null,
   "id": "1be8bd70",
   "metadata": {},
   "outputs": [],
   "source": [
    "from demcompare.dem_tools import compute_dem_slope"
   ]
  },
  {
   "cell_type": "code",
   "execution_count": null,
   "id": "imported-albania",
   "metadata": {},
   "outputs": [],
   "source": [
    "reproj_ref = compute_dem_slope(reproj_ref)\n",
    "reproj_sec = compute_dem_slope(reproj_sec)"
   ]
  },
  {
   "cell_type": "markdown",
   "id": "84eacfda",
   "metadata": {},
   "source": [
    "Import `DemProcessing` needed in the notebook"
   ]
  },
  {
   "cell_type": "code",
   "execution_count": null,
   "id": "light-beach",
   "metadata": {},
   "outputs": [],
   "source": [
    "from demcompare.dem_processing import DemProcessing"
   ]
  },
  {
   "cell_type": "markdown",
   "id": "cbfc8e0b",
   "metadata": {},
   "source": [
    "# Comparing the two DEMs independently\n",
    "\n",
    "In this section, the 2 DEMs are compared independently, with visualizations and quality measures."
   ]
  },
  {
   "cell_type": "markdown",
   "id": "acd3cd68",
   "metadata": {},
   "source": [
    "Create a dictonnary with a `statistics` section, and the `global` classification layer inside.\n",
    "We won't use other classifications layers here, but it is possible.\n",
    "Some metrics are selected to be calculated and analyzed with some methods later."
   ]
  },
  {
   "cell_type": "code",
   "execution_count": null,
   "id": "2522b717",
   "metadata": {},
   "outputs": [],
   "source": [
    "cfg = {\n",
    "    \"statistics\": {\n",
    "        \"global\": {\n",
    "        },\n",
    "        \"metrics\":[\"mean\",\"std\",\"median\",\"nmad\",\"percentil_90\",\"pdf\",\"cdf\"]\n",
    "    }\n",
    "}"
   ]
  },
  {
   "cell_type": "markdown",
   "id": "f42436b3",
   "metadata": {},
   "source": [
    "Import `StatsProcessing` in order to be able to produce statistics."
   ]
  },
  {
   "cell_type": "code",
   "execution_count": null,
   "id": "865cbf8c",
   "metadata": {},
   "outputs": [],
   "source": [
    "from demcompare.stats_processing import StatsProcessing"
   ]
  },
  {
   "cell_type": "markdown",
   "id": "3c9f325c",
   "metadata": {},
   "source": [
    "Create a `stats_processing_` object for the two DEMs independently."
   ]
  },
  {
   "cell_type": "code",
   "execution_count": null,
   "id": "586e13a7",
   "metadata": {},
   "outputs": [],
   "source": [
    "stats_processing_ref = StatsProcessing(cfg['statistics'], reproj_ref)\n",
    "stats_processing_sec = StatsProcessing(cfg['statistics'], reproj_sec)"
   ]
  },
  {
   "cell_type": "markdown",
   "id": "a5d72df4",
   "metadata": {},
   "source": [
    "## DEMs visualizations"
   ]
  },
  {
   "cell_type": "markdown",
   "id": "04c9a520",
   "metadata": {},
   "source": [
    "Compute statistics for the two DEMs independently.\n",
    "The statistics computed here correspond to additional visualizations:\n",
    "- `hillshade`\n",
    "- `svf` (sky-view factor)"
   ]
  },
  {
   "cell_type": "code",
   "execution_count": null,
   "id": "42d715f5",
   "metadata": {},
   "outputs": [],
   "source": [
    "stats_dataset_ref = stats_processing_ref.compute_stats(metrics = [\"hillshade\", \"svf\"])\n",
    "stats_dataset_sec = stats_processing_sec.compute_stats(metrics = [\"hillshade\", \"svf\"])"
   ]
  },
  {
   "cell_type": "code",
   "execution_count": null,
   "id": "1a495b1d",
   "metadata": {},
   "outputs": [],
   "source": [
    "hillshade_ref = stats_dataset_ref.get_classification_layer_metric(classification_layer = 'global', metric=\"hillshade\", classif_class=0)\n",
    "hillshade_sec = stats_dataset_sec.get_classification_layer_metric(classification_layer = 'global', metric=\"hillshade\", classif_class=0)\n",
    "svf_ref = stats_dataset_ref.get_classification_layer_metric(classification_layer = 'global', metric=\"svf\", classif_class=0)\n",
    "svf_sec = stats_dataset_sec.get_classification_layer_metric(classification_layer = 'global', metric=\"svf\", classif_class=0)"
   ]
  },
  {
   "cell_type": "markdown",
   "id": "dd873170",
   "metadata": {},
   "source": [
    "Plot the three visualizations side by side, for reference DEM and the DEM to evaluate. It is possible to set the minimum and maximum values of the colorbar range for the different representations.  "
   ]
  },
  {
   "cell_type": "code",
   "execution_count": null,
   "id": "141e938d",
   "metadata": {},
   "outputs": [],
   "source": [
    "vmin_height, vmax_height = 1800, 2000\n",
    "vmin_hs, vmax_hs = 38, 250\n",
    "vmin_svf, vmax_svf = 0, 255\n",
    "colorbar_range = [vmin_height, vmax_height,vmin_hs, vmax_hs,vmin_svf, vmax_svf]\n",
    "\n",
    "plot_visualizations(reproj_ref,reproj_sec,\n",
    "                    hillshade_ref, hillshade_sec,\n",
    "                    svf_ref, svf_sec,\n",
    "                    colorbar_range)"
   ]
  },
  {
   "cell_type": "markdown",
   "id": "5c279251",
   "metadata": {},
   "source": [
    "## DEMs curvature"
   ]
  },
  {
   "cell_type": "markdown",
   "id": "a09dae46",
   "metadata": {},
   "source": [
    "With `DemProcessing`, compute the curvature of the two DEMs, independently.  \n",
    "For a DEM over a city, the curvature spotlights the buildings edges really efficiently. Comparing it to the reference curvature gives a good indication on the quality of the building restitution in a DEM. It also brings to light some artefacts which appeared during DEM generation: a tiling pattern can be observed. This is caused by the correlator used to generate the DEM. "
   ]
  },
  {
   "cell_type": "code",
   "execution_count": null,
   "id": "4871986f",
   "metadata": {},
   "outputs": [],
   "source": [
    "dem_processing_object_ref_curvature = DemProcessing(\"ref-curvature\")\n",
    "ref_curvature = dem_processing_object_ref_curvature.process_dem(reproj_ref, reproj_sec)\n",
    "dem_processing_object_sec_curvature = DemProcessing(\"sec-curvature\")\n",
    "sec_curvature = dem_processing_object_sec_curvature.process_dem(reproj_ref, reproj_sec)"
   ]
  },
  {
   "cell_type": "markdown",
   "id": "5d905cc9",
   "metadata": {},
   "source": [
    "Show the curvature of the two DEMs side-by-side"
   ]
  },
  {
   "cell_type": "code",
   "execution_count": null,
   "id": "79b99301",
   "metadata": {},
   "outputs": [],
   "source": [
    "plot_side_by_side(ref_curvature, \n",
    "                  sec_curvature,\n",
    "                  \"Reference DEM Curvature\", \n",
    "                  \"Second DEM Curvature\",\n",
    "                  -2,2,\n",
    "                  -2,2)"
   ]
  },
  {
   "cell_type": "markdown",
   "id": "b0f0be8a",
   "metadata": {},
   "source": [
    "## DEMs slope orientation histogram"
   ]
  },
  {
   "cell_type": "markdown",
   "id": "c0d84dc4",
   "metadata": {},
   "source": [
    "Get the `slope_orientation_histogram`s for the two DEMs independently (it is a DEM statistics).  \n",
    "The slope orientation histogram helps to analyze the main orientations of a DEM. It is useful to detect some artefacts, through some peaks that can be observed in the reference DEM in the main direction of the grid."
   ]
  },
  {
   "cell_type": "code",
   "execution_count": null,
   "id": "8d9ac8af",
   "metadata": {},
   "outputs": [],
   "source": [
    "%%capture\n",
    "stats_dataset_ref2 = stats_processing_ref.compute_stats(metrics = [\"slope-orientation-histogram\"])\n",
    "stats_dataset_sec2 = stats_processing_sec.compute_stats(metrics = [\"slope-orientation-histogram\"])\n",
    "slope_orientation_histogram_ref = stats_dataset_ref2.get_classification_layer_metric(classification_layer = 'global', metric=\"slope-orientation-histogram\", classif_class=0)\n",
    "slope_orientation_histogram_sec = stats_dataset_sec2.get_classification_layer_metric(classification_layer = 'global', metric=\"slope-orientation-histogram\", classif_class=0)"
   ]
  },
  {
   "cell_type": "markdown",
   "id": "5af4920d",
   "metadata": {},
   "source": [
    "Plot the `slope_orientation_histogram`s on the same figure. "
   ]
  },
  {
   "cell_type": "code",
   "execution_count": null,
   "id": "23a8ce04",
   "metadata": {},
   "outputs": [],
   "source": [
    "plot_two_slope_orientation_histogram(slope_orientation_histogram_ref[1], slope_orientation_histogram_ref[0],\n",
    "                                     slope_orientation_histogram_sec[1], slope_orientation_histogram_sec[0])"
   ]
  },
  {
   "cell_type": "markdown",
   "id": "6d4509e2",
   "metadata": {},
   "source": [
    "# Comparing the two DEMs together\n",
    "\n",
    "In this section, we compare the 2 DEMs together using different methods:\n",
    "- the difference in altitude\n",
    "- the slope-normalized altitude difference\n",
    "- the angular difference"
   ]
  },
  {
   "cell_type": "markdown",
   "id": "0ff94a39",
   "metadata": {},
   "source": [
    "## Elevation difference"
   ]
  },
  {
   "cell_type": "markdown",
   "id": "674c16f2",
   "metadata": {},
   "source": [
    "With `DemProcessing`, compute the difference in altitude."
   ]
  },
  {
   "cell_type": "code",
   "execution_count": null,
   "id": "58182b75",
   "metadata": {},
   "outputs": [],
   "source": [
    "dem_processing_object_alti_diff = DemProcessing(\"alti-diff\")\n",
    "altitude_diff = dem_processing_object_alti_diff.process_dem(reproj_ref, reproj_sec)"
   ]
  },
  {
   "cell_type": "markdown",
   "id": "24a71e03",
   "metadata": {},
   "source": [
    "With `DemProcessing`, compute the difference in altitude bewteen the two DEMs, and normalize it by the slope.  \n",
    "The normalisation is very interesting as the elevation difference is intrinsically biased by the slope: important slopes tend to accentuate the elevation difference. Then, this method can reveal the areas in the DEM where the differences can actually be reduced as they would not directly result from the slope."
   ]
  },
  {
   "cell_type": "code",
   "execution_count": null,
   "id": "d5af91d3",
   "metadata": {},
   "outputs": [],
   "source": [
    "dem_processing_object_alti_diff_slope_norm = DemProcessing(\"alti-diff-slope-norm\")\n",
    "altitude_diff_slope_norm = dem_processing_object_alti_diff_slope_norm.process_dem(reproj_ref, reproj_sec)"
   ]
  },
  {
   "cell_type": "markdown",
   "id": "bdf1b3dc",
   "metadata": {},
   "source": [
    "Show the difference in altitude, and the difference in altitude normalized by the slope side-by-side."
   ]
  },
  {
   "cell_type": "code",
   "execution_count": null,
   "id": "9c7429cf",
   "metadata": {},
   "outputs": [],
   "source": [
    "plot_side_by_side(altitude_diff, \n",
    "                  altitude_diff_slope_norm,\n",
    "                  \"Elevation difference (ref-sec)\", \n",
    "                  \"Slope-normalized elevation difference (ref-sec)\",\n",
    "                  -4,4,\n",
    "                  -1.5,1.5)"
   ]
  },
  {
   "cell_type": "markdown",
   "id": "096f8123",
   "metadata": {},
   "source": [
    "Create object from `StatsProcessing` with configuration and computed altitudes differences (classic and slope-normalized). "
   ]
  },
  {
   "cell_type": "code",
   "execution_count": null,
   "id": "d0291b78",
   "metadata": {},
   "outputs": [],
   "source": [
    "stats_processing_diff = StatsProcessing(cfg['statistics'], altitude_diff)\n",
    "stats_dataset_diff = stats_processing_diff.compute_stats()"
   ]
  },
  {
   "cell_type": "markdown",
   "id": "0b7713d2",
   "metadata": {},
   "source": [
    "Get the pdf (Probability Density Function) and the cdf (Cumulative Density Function) metrics from these two methods and plot them."
   ]
  },
  {
   "cell_type": "code",
   "execution_count": null,
   "id": "55f20585",
   "metadata": {},
   "outputs": [],
   "source": [
    "pdf_diff = stats_dataset_diff.get_classification_layer_metric(classification_layer = 'global', metric=\"pdf\")\n",
    "cdf_diff = stats_dataset_diff.get_classification_layer_metric(classification_layer = 'global', metric=\"cdf\")"
   ]
  },
  {
   "cell_type": "markdown",
   "id": "99bf4737",
   "metadata": {},
   "source": [
    "Select and calculate the scalar metrics requested in the configuration and store the results in a StatsDataset object."
   ]
  },
  {
   "cell_type": "code",
   "execution_count": null,
   "id": "cbe0ffbe",
   "metadata": {},
   "outputs": [],
   "source": [
    "stats_metrics = stats_dataset_diff.get_classification_layer_metrics(classification_layer=\"global\")\n",
    "stats_metrics = stats_metrics[:-2]   # remove the 2 last metrics (nbpts and percent_valid_points) which are automatically selected\n",
    "stats_metrics = stats_metrics[:-2]   # remove the cdf and pdf from the StatsDataset object as they are vector metrics and are displayed separately before\n",
    "\n",
    "table_metrics = [[\"Metric\", \"Measured value (m)\"]]\n",
    "for metric in stats_metrics: \n",
    "    metric_value_diff = stats_dataset_diff.get_classification_layer_metric(classification_layer=\"global\", metric=metric)\n",
    "    table_metrics.append([metric, metric_value_diff[0]])"
   ]
  },
  {
   "cell_type": "markdown",
   "id": "cb6795be",
   "metadata": {},
   "source": [
    "Plot the pdf and the cdf and display the scalar metrics for the elevation difference.  \n",
    "Such metrics and statistics can help to assess the biases or the precision of a DEM."
   ]
  },
  {
   "cell_type": "code",
   "execution_count": null,
   "id": "caac5368",
   "metadata": {},
   "outputs": [],
   "source": [
    "plot_cdf_pdf_side_by_side(pdf_diff, cdf_diff, \"elevation difference\")\n",
    "display(HTML(tabulate.tabulate(table_metrics, tablefmt='html')))"
   ]
  },
  {
   "cell_type": "markdown",
   "id": "705cf528",
   "metadata": {},
   "source": [
    "Do the same for the slope-normalized elevation difference."
   ]
  },
  {
   "cell_type": "code",
   "execution_count": null,
   "id": "ebadf3a7",
   "metadata": {},
   "outputs": [],
   "source": [
    "stats_processing_diff_norm = StatsProcessing(cfg['statistics'], altitude_diff_slope_norm)\n",
    "stats_dataset_diff_norm = stats_processing_diff_norm.compute_stats()\n",
    "\n",
    "pdf_diff_norm = stats_dataset_diff_norm.get_classification_layer_metric(classification_layer = 'global', metric=\"pdf\")\n",
    "cdf_diff_norm = stats_dataset_diff_norm.get_classification_layer_metric(classification_layer = 'global', metric=\"cdf\")\n",
    "\n",
    "table_metrics_norm = [[\"Metric\", \"Measured value (m)\"]]\n",
    "for metric in stats_metrics: \n",
    "    metric_value = stats_dataset_diff_norm.get_classification_layer_metric(classification_layer=\"global\", metric=metric)\n",
    "    table_metrics_norm.append([metric, metric_value[0]])\n",
    "    \n",
    "plot_cdf_pdf_side_by_side(pdf_diff_norm, cdf_diff_norm, \"elevation difference\")\n",
    "display(HTML(tabulate.tabulate(table_metrics_norm, tablefmt='html')))"
   ]
  },
  {
   "cell_type": "markdown",
   "id": "16cb5a14",
   "metadata": {},
   "source": [
    "## Angular difference"
   ]
  },
  {
   "cell_type": "markdown",
   "id": "ee323c19",
   "metadata": {},
   "source": [
    "With `DemProcessing`, compute the angular difference between the two DEMs.  \n",
    "The angular difference is useful to capture shape divergences and distorsions. It can also be helpful to analyze and understand some local details (such as the vegetation recosntruction)."
   ]
  },
  {
   "cell_type": "code",
   "execution_count": null,
   "id": "c18ac1d6",
   "metadata": {},
   "outputs": [],
   "source": [
    "dem_processing_object_angular_diff = DemProcessing(\"angular-diff\")\n",
    "angular_diff = dem_processing_object_angular_diff.process_dem(reproj_ref, reproj_sec)"
   ]
  },
  {
   "cell_type": "markdown",
   "id": "26141cb9",
   "metadata": {},
   "source": [
    "Get the metrics for the angular difference."
   ]
  },
  {
   "cell_type": "code",
   "execution_count": null,
   "id": "12f8da71",
   "metadata": {},
   "outputs": [],
   "source": [
    "stats_processing_ang = StatsProcessing(cfg['statistics'], angular_diff)\n",
    "stats_dataset_ang = stats_processing_ang.compute_stats()\n",
    "\n",
    "pdf_diff_ang = stats_dataset_ang.get_classification_layer_metric(classification_layer = 'global', metric=\"pdf\")\n",
    "cdf_diff_ang = stats_dataset_ang.get_classification_layer_metric(classification_layer = 'global', metric=\"cdf\")\n",
    "\n",
    "table_metrics_ang = [[\"Metric\", \"Measured value (rad)\"]]\n",
    "for metric in stats_metrics: \n",
    "    metric_value = stats_dataset_ang.get_classification_layer_metric(classification_layer=\"global\", metric=metric)\n",
    "    table_metrics_ang.append([metric, metric_value[0]])"
   ]
  },
  {
   "cell_type": "markdown",
   "id": "6714e224",
   "metadata": {},
   "source": [
    "Plot the angular difference with its associated pdf and cdf. It is possible to set the minimum and maximum values for the angular difference plot."
   ]
  },
  {
   "cell_type": "code",
   "execution_count": null,
   "id": "471573f6",
   "metadata": {},
   "outputs": [],
   "source": [
    "vmin, vmax = 0, 1.6\n",
    "plot_angular_diff(angular_diff,pdf_diff_ang,cdf_diff_ang,vmin,vmax)\n",
    "display(HTML(tabulate.tabulate(table_metrics_ang, tablefmt='html')))"
   ]
  }
 ],
 "metadata": {
  "kernelspec": {
   "display_name": "Python 3 (ipykernel)",
   "language": "python",
   "name": "python3"
  },
  "language_info": {
   "codemirror_mode": {
    "name": "ipython",
    "version": 3
   },
   "file_extension": ".py",
   "mimetype": "text/x-python",
   "name": "python",
   "nbconvert_exporter": "python",
   "pygments_lexer": "ipython3",
   "version": "3.10.12"
  }
 },
 "nbformat": 4,
 "nbformat_minor": 5
}
