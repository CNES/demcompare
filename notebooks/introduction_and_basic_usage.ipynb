{
 "cells": [
  {
   "cell_type": "markdown",
   "id": "34a15c55",
   "metadata": {},
   "source": [
    "<img src=\"img/logo_demcompare.png\" width=\"100\" align=\"right\">\n",
    "\n",
    "# Demcompare: introduction and basic usage"
   ]
  },
  {
   "cell_type": "markdown",
   "id": "c092ac04",
   "metadata": {},
   "source": [
    "**Imports**"
   ]
  },
  {
   "cell_type": "code",
   "execution_count": null,
   "id": "bd590021",
   "metadata": {},
   "outputs": [],
   "source": [
    "import pyproj # pyproj as first import is necessary"
   ]
  },
  {
   "cell_type": "code",
   "execution_count": null,
   "id": "774c3c1d",
   "metadata": {},
   "outputs": [],
   "source": [
    "from snippets.utils_notebook import *"
   ]
  },
  {
   "cell_type": "code",
   "execution_count": null,
   "id": "f7399784",
   "metadata": {},
   "outputs": [],
   "source": [
    "from IPython.display import HTML, display\n",
    "import tabulate\n",
    "import pprint"
   ]
  },
  {
   "cell_type": "markdown",
   "id": "8afd565f",
   "metadata": {},
   "source": [
    "# 1. INTRODUCTION"
   ]
  },
  {
   "cell_type": "markdown",
   "id": "e0b32d5f",
   "metadata": {},
   "source": [
    "## 1.1. What is demcompare ? \n",
    "\n",
    "* Demcompare is a python software that aims at comparing two DEMs together.\n",
    "* It performs the coregistration based on the Nuth & Kääb universal coregistration method.\n",
    "* Two steps are available in demcompare coregistration's step: reprojection and coregistration \n",
    "* It provides a wide variety of standard metrics which can be classified."
   ]
  },
  {
   "cell_type": "markdown",
   "id": "187e97fe",
   "metadata": {},
   "source": [
    "## 1.2. Glossary"
   ]
  },
  {
   "cell_type": "markdown",
   "id": "b0cabc3b",
   "metadata": {},
   "source": [
    "**DEM (Digital Elevation Model)** : a 3D computer graphics representation of elevation data to represent terrain.\n",
    "\n",
    "**Coregistration** :  this step looks for offsets differences and align DEMs together"
   ]
  },
  {
   "cell_type": "markdown",
   "id": "284d2963",
   "metadata": {},
   "source": [
    "# 2. INPUTS"
   ]
  },
  {
   "cell_type": "markdown",
   "id": "e8a3e45c",
   "metadata": {},
   "source": [
    "Demcompare user defines a dictionary as a configuration."
   ]
  },
  {
   "cell_type": "code",
   "execution_count": null,
   "id": "fdea3612",
   "metadata": {},
   "outputs": [],
   "source": [
    "config = {}"
   ]
  },
  {
   "cell_type": "markdown",
   "id": "dad94b97",
   "metadata": {},
   "source": [
    "## 2.1. Outputs configuration"
   ]
  },
  {
   "cell_type": "markdown",
   "id": "3f86dfc6",
   "metadata": {},
   "source": [
    "User needs to save results in an outputs directory"
   ]
  },
  {
   "cell_type": "code",
   "execution_count": null,
   "id": "19bb43c3",
   "metadata": {},
   "outputs": [],
   "source": [
    "config[\"output_dir\"] = \"./outputs/\""
   ]
  },
  {
   "cell_type": "markdown",
   "id": "cede0f84",
   "metadata": {},
   "source": [
    "## 2.2. Inputs configuration"
   ]
  },
  {
   "cell_type": "markdown",
   "id": "ca021ea6",
   "metadata": {},
   "source": [
    "The user sets demcompare with a json configuration file. Each DEM is introduced with a dictionary. All parameters are described in the next chunk."
   ]
  },
  {
   "cell_type": "markdown",
   "id": "42d97cf3",
   "metadata": {},
   "source": [
    "* For the coregistration step, two DEMs are necessary\n",
    "    * input_ref and input_sec\n",
    "    * input_sec is to be coregistered on input_ref\n",
    "    * The inputs can have different size and resolution. \n",
    "    * By default, demcompare considers that the reference DEM has better resolution. "
   ]
  },
  {
   "cell_type": "markdown",
   "id": "875a1202",
   "metadata": {},
   "source": [
    "|           Name           |                  Description                  |  Type  | Default value | Required |\n",
    "|:------------------------:|:---------------------------------------------:|:------:|:-------------:|:--------:|\n",
    "|     _path_               |             Path of the input Ref             | string |      None     |    Yes   |\n",
    "|     _zunit_              |          Z axes unit of the input Ref         | string |       m       |    No    |\n",
    "| _geoid_georef_           | True if the georef of the input Ref is geoid  |  bool  |     False     |    No    |\n",
    "|  _geoid_path_            |          Geoid path of the input Ref          | string |      None     |    No    |\n",
    "|    _nodata_              |         No data value of the input Ref        |   int  |      None     |    No    |\n",
    "|  _classification_layers_ |        Path to the classification layer       | string |      None     |    No    |"
   ]
  },
  {
   "cell_type": "markdown",
   "id": "2cde8162",
   "metadata": {},
   "source": [
    "User defines a configuration for both DEMs"
   ]
  },
  {
   "cell_type": "code",
   "execution_count": null,
   "id": "576356f7",
   "metadata": {},
   "outputs": [],
   "source": [
    "config[\"input_ref\"] = { \n",
    "        \"path\": \"data/grenoble/Copernicus_DSM_10_N45_00_E005_00_DEM.tif\",\n",
    "        \"zunit\": \"m\",\n",
    "        \"georef\": \"WGS84\"\n",
    "    }"
   ]
  },
  {
   "cell_type": "code",
   "execution_count": null,
   "id": "8f200abb",
   "metadata": {},
   "outputs": [],
   "source": [
    "config[\"input_sec\"] = {      \n",
    "        \"path\": \"data/grenoble/Copernicus_blurred_and_shifted.tif\",\n",
    "        \"zunit\": \"m\",\n",
    "        \"nodata\": -32768,\n",
    "    }"
   ]
  },
  {
   "cell_type": "markdown",
   "id": "8898a9e3",
   "metadata": {},
   "source": [
    "## 2.3. Coregistration configuration"
   ]
  },
  {
   "cell_type": "markdown",
   "id": "9d19c22d",
   "metadata": {},
   "source": [
    "### Coregistration introduction"
   ]
  },
  {
   "cell_type": "markdown",
   "id": "836afb18",
   "metadata": {},
   "source": [
    "During the optional coregistration step, demcompare performs the coregistration on two uncoregistered DEMs like the ones below\n",
    "\n",
    "Superposition of two DEMs that need to be coregistered\n",
    "<img src=\"img/doc_ref.gif\" width=\"300\" align=\"center\">"
   ]
  },
  {
   "cell_type": "markdown",
   "id": "74887a3e",
   "metadata": {},
   "source": [
    "The user sets demcompare with a json configuration file. Each pipeline's step is introduced with a dictionary. All coregistration parameters are described in the next chunk."
   ]
  },
  {
   "cell_type": "markdown",
   "id": "4c9f1939",
   "metadata": {},
   "source": [
    "|             Name            |                          Description                          |  Type  |    Default Value   | Required |\n",
    "|:---------------------------:|:-------------------------------------------------------------:|:------:|:------------------:|----------|\n",
    "|        _method_name_        |               Planimetric coregistration method               | string | nuth_kaab_internal | No       |\n",
    "|    _number_of_iterations_   |       Number of iterations of the coregistration method       |   int  |          6         | No       |\n",
    "| _estimated_initial_shift_x_ |            Estimated initial x coregistration shift           |   int  |          0         | No       |\n",
    "| _estimated_initial_shift_y_ |            Estimated initial y coregistration shift           |   int  |          0         | No       |\n",
    "|      _sampling_source_      |                Sampling source for reprojection               | string |         sec        | No       |\n",
    "| _save_optional_outputs_ | If save coregistration method outputs such as iteration plots | string |        False       | No       |"
   ]
  },
  {
   "cell_type": "markdown",
   "id": "12c36750",
   "metadata": {},
   "source": [
    "User defines coregistration configuration."
   ]
  },
  {
   "cell_type": "code",
   "execution_count": null,
   "id": "76b02c50",
   "metadata": {},
   "outputs": [],
   "source": [
    "config[\"coregistration\"] = {\n",
    "    \"method_name\": \"nuth_kaab_internal\",\n",
    "    \"number_of_iterations\": 6,\n",
    "    \"estimated_initial_shift_x\": 0,\n",
    "    \"estimated_initial_shift_y\": 0\n",
    "  }"
   ]
  },
  {
   "cell_type": "markdown",
   "id": "0d1407c0",
   "metadata": {},
   "source": [
    "## 2.4. Statistic configuration"
   ]
  },
  {
   "cell_type": "markdown",
   "id": "030d62a5",
   "metadata": {},
   "source": [
    "### Statistics introduction"
   ]
  },
  {
   "cell_type": "markdown",
   "id": "c4196200",
   "metadata": {},
   "source": [
    "Demcompare can compute a wide variety of statistics on either an input DEM, or the difference between two input DEMs. The statistics module can consider different number of inputs:\n",
    "\n",
    "* If one single DEM is specified in the configuration; in this case the input or default metrics will directly be computed on the input DEM.\n",
    "* If two DEMs are specified in the configuration; demcompare will do the reprojection for both DEMs to have the same resolution and size, and the difference between both reprojected DEMs will be considered to compute the input or default metrics."
   ]
  },
  {
   "cell_type": "markdown",
   "id": "59dfdf97",
   "metadata": {},
   "source": [
    "The metrics to be computed may be specified at different levels on the statistics configuration:\n",
    "\n",
    "* Global level: those metrics will be computed for all classification layers\n",
    "* Classification layer level: those metrics will be computed specifically for the given classification layer\n",
    "\n"
   ]
  },
  {
   "cell_type": "markdown",
   "id": "66c91d25",
   "metadata": {},
   "source": [
    "| Statistics |  |  |  |  |\n",
    "|---|---|---|---|---|\n",
    "| **Name** | **Description** | **Type** | **Default Value** | **Required** |\n",
    "| remove_outliers | Remove outliers during statistics computation | string | False | No |\n",
    "| metrics | Metrics to be computed | List | List of default metrics | No |"
   ]
  },
  {
   "cell_type": "markdown",
   "id": "b4aff352",
   "metadata": {},
   "source": [
    "| Classification layer |  |  |  |  |\n",
    "|---|---|---|---|---|\n",
    "| **Name** | **Description** | **Type** | **Default Value** | **Required** |\n",
    "| type | Classification layer type | string | None | Yes |\n",
    "| remove_outliers | Remove outliers during statistics computation for this particular classification layer | string | Value set for the whole stats | No |\n",
    "| nodata | Classification layer no data value | float or int | -32768 | No |\n",
    "| metrics | Classification layer metrics to be computed (if metrics have been specified for the whole stats, they will also be computed for this classification) | List | List of default metrics | No |"
   ]
  },
  {
   "cell_type": "markdown",
   "id": "6834f4b9",
   "metadata": {},
   "source": [
    "| **Classification layer type** | **Name** | **Description** | **Type** | **Default Value** | **Required** |\n",
    "|---|---|---|---|---|---|\n",
    "| **Segmentation** | classes | Segmentation classes | Dict | None | Yes |\n",
    "| **Slope** | ranges | Slope ranges | List | [0, 5, 10, 25, 40] | No |\n",
    "| **Fusion** | ref | Ref classification layers to fusion | List | None | No |\n",
    "|  | sec | Sec classification layers to fusion | List | None | No |"
   ]
  },
  {
   "cell_type": "markdown",
   "id": "82d6ba3a",
   "metadata": {},
   "source": [
    "We use default statistics configuration"
   ]
  },
  {
   "cell_type": "code",
   "execution_count": null,
   "id": "8bcb4bac",
   "metadata": {},
   "outputs": [],
   "source": [
    "config[\"statistics\"] = {}"
   ]
  },
  {
   "cell_type": "markdown",
   "id": "ba1a9e7f",
   "metadata": {},
   "source": [
    "## 2.5. Complete configuration"
   ]
  },
  {
   "cell_type": "code",
   "execution_count": null,
   "id": "75fdf18c",
   "metadata": {},
   "outputs": [],
   "source": [
    "pprint.pprint(config, sort_dicts=False)"
   ]
  },
  {
   "cell_type": "markdown",
   "id": "db25ca09",
   "metadata": {},
   "source": [
    "# 3. Load inputs"
   ]
  },
  {
   "cell_type": "markdown",
   "id": "420a5748",
   "metadata": {},
   "source": [
    "You must load the DEM with the `load_dem` function"
   ]
  },
  {
   "cell_type": "code",
   "execution_count": null,
   "id": "fb605390",
   "metadata": {},
   "outputs": [],
   "source": [
    "from demcompare.dem_tools import load_dem"
   ]
  },
  {
   "cell_type": "code",
   "execution_count": null,
   "id": "6b51f0be",
   "metadata": {},
   "outputs": [],
   "source": [
    "input_ref = load_dem(\n",
    "    path=config[\"input_ref\"][\"path\"], \n",
    "    zunit=config[\"input_ref\"][\"zunit\"]\n",
    ")\n",
    "\n",
    "input_sec = load_dem(\n",
    "    path=config[\"input_sec\"][\"path\"], \n",
    "    zunit=config[\"input_sec\"][\"zunit\"], \n",
    ")"
   ]
  },
  {
   "cell_type": "markdown",
   "id": "570ae7ba",
   "metadata": {},
   "source": [
    "We can see that there are differences in terms of size and resolution. But there is also an offset between them."
   ]
  },
  {
   "cell_type": "code",
   "execution_count": null,
   "id": "5995fcc7",
   "metadata": {},
   "outputs": [],
   "source": [
    "show(stack_dems(input_ref, input_sec, \"Referenced DEM and second DEM\"))"
   ]
  },
  {
   "cell_type": "markdown",
   "id": "aae8cb5a",
   "metadata": {},
   "source": [
    "# 4. Compute demcompare coregistration"
   ]
  },
  {
   "cell_type": "markdown",
   "id": "00ecc5c4",
   "metadata": {},
   "source": [
    "We call the coregistration class"
   ]
  },
  {
   "cell_type": "code",
   "execution_count": null,
   "id": "49f64af9",
   "metadata": {},
   "outputs": [],
   "source": [
    "from demcompare.coregistration import Coregistration"
   ]
  },
  {
   "cell_type": "markdown",
   "id": "048ecff9",
   "metadata": {},
   "source": [
    "We create coregistration object"
   ]
  },
  {
   "cell_type": "code",
   "execution_count": null,
   "id": "daa3d4fa",
   "metadata": {},
   "outputs": [],
   "source": [
    "coregistration_ = Coregistration(config[\"coregistration\"])"
   ]
  },
  {
   "cell_type": "markdown",
   "id": "38801f6f",
   "metadata": {},
   "source": [
    "The coregistration is computed and results are stored in transformation."
   ]
  },
  {
   "cell_type": "code",
   "execution_count": null,
   "id": "527965b1",
   "metadata": {},
   "outputs": [],
   "source": [
    "transformation = coregistration_.compute_coregistration(input_sec, input_ref)"
   ]
  },
  {
   "cell_type": "markdown",
   "id": "8a95b5d8",
   "metadata": {},
   "source": [
    "### Get offsets results from coregistration step"
   ]
  },
  {
   "cell_type": "markdown",
   "id": "b4c34543",
   "metadata": {},
   "source": [
    "Different transformation's attributes are printed"
   ]
  },
  {
   "cell_type": "code",
   "execution_count": null,
   "id": "9421f8b6",
   "metadata": {},
   "outputs": [],
   "source": [
    "print(transformation)"
   ]
  },
  {
   "cell_type": "markdown",
   "id": "a819aaf6",
   "metadata": {},
   "source": [
    "The offsets are applied to original second dem "
   ]
  },
  {
   "cell_type": "code",
   "execution_count": null,
   "id": "f78f270a",
   "metadata": {},
   "outputs": [],
   "source": [
    "coreg_sec = transformation.apply_transform(input_sec)"
   ]
  },
  {
   "cell_type": "markdown",
   "id": "6247d0a8",
   "metadata": {},
   "source": [
    "Here, you can visualize Reference DEM with the coregistered second DEM."
   ]
  },
  {
   "cell_type": "code",
   "execution_count": null,
   "id": "1e4857f7",
   "metadata": {},
   "outputs": [],
   "source": [
    "show(stack_dems(input_ref, coreg_sec, \"Referenced DEM and second DEM\"))"
   ]
  },
  {
   "cell_type": "markdown",
   "id": "0c4cb71c",
   "metadata": {},
   "source": [
    "# 5. Compute demcompare statistics"
   ]
  },
  {
   "cell_type": "markdown",
   "id": "7ae8c2b5",
   "metadata": {},
   "source": [
    "## 5.1. Prerequisites for statistics computation"
   ]
  },
  {
   "cell_type": "markdown",
   "id": "4b35cb8a",
   "metadata": {},
   "source": [
    "Coregistration is computed on reprojected DEMs with same size and resolution. They are stored and we need them for computing the statistics."
   ]
  },
  {
   "cell_type": "code",
   "execution_count": null,
   "id": "683d225b",
   "metadata": {},
   "outputs": [],
   "source": [
    "reproj_ref = coregistration_.reproj_ref\n",
    "reproj_sec = coregistration_.reproj_sec"
   ]
  },
  {
   "cell_type": "markdown",
   "id": "0cfe5b31",
   "metadata": {},
   "source": [
    "Statistics must be computed on the altitude difference's of reprojected DEM, which is computed with the function `compute_alti_diff_for_stats`"
   ]
  },
  {
   "cell_type": "code",
   "execution_count": null,
   "id": "1d905f34",
   "metadata": {},
   "outputs": [],
   "source": [
    "from demcompare.dem_tools import compute_alti_diff_for_stats"
   ]
  },
  {
   "cell_type": "code",
   "execution_count": null,
   "id": "98282905",
   "metadata": {},
   "outputs": [],
   "source": [
    "altitude_diff = compute_alti_diff_for_stats(reproj_ref, reproj_sec)"
   ]
  },
  {
   "cell_type": "code",
   "execution_count": null,
   "id": "6cf68f61",
   "metadata": {},
   "outputs": [],
   "source": [
    "show_dem(altitude_diff, \n",
    "         \"Altitude difference on reprojected DEM\")"
   ]
  },
  {
   "cell_type": "markdown",
   "id": "c2d45d84",
   "metadata": {},
   "source": [
    "## 5.2. Computing the statistics"
   ]
  },
  {
   "cell_type": "markdown",
   "id": "9d0f559f",
   "metadata": {},
   "source": [
    "Import StatsProcessing class"
   ]
  },
  {
   "cell_type": "code",
   "execution_count": null,
   "id": "4f632743",
   "metadata": {},
   "outputs": [],
   "source": [
    "from demcompare.stats_processing import StatsProcessing"
   ]
  },
  {
   "cell_type": "markdown",
   "id": "e8ac1c54",
   "metadata": {},
   "source": [
    "Create object from `StatsProcessing` with configuration and computed altitudes differences. If the input dem is an altitude difference the input_diff parameter is set to True. "
   ]
  },
  {
   "cell_type": "code",
   "execution_count": null,
   "id": "eb1e3a99",
   "metadata": {},
   "outputs": [],
   "source": [
    "stats_processing_ = StatsProcessing(config['statistics'], altitude_diff, input_diff=True)"
   ]
  },
  {
   "cell_type": "markdown",
   "id": "c844a382",
   "metadata": {},
   "source": [
    "Calculate metrics requested in the configuration and store the result in a StatsDataset object"
   ]
  },
  {
   "cell_type": "code",
   "execution_count": null,
   "id": "becd6189",
   "metadata": {},
   "outputs": [],
   "source": [
    "stats_dataset = stats_processing_.compute_stats()"
   ]
  },
  {
   "cell_type": "markdown",
   "id": "62d560f5",
   "metadata": {},
   "source": [
    "### Get default metrics results from statistics step"
   ]
  },
  {
   "cell_type": "markdown",
   "id": "d492695c",
   "metadata": {},
   "source": [
    "Here we show all the calculated metrics on the global classification layer"
   ]
  },
  {
   "cell_type": "code",
   "execution_count": null,
   "id": "9286dc11",
   "metadata": {},
   "outputs": [],
   "source": [
    "stats_metrics = stats_dataset.get_classification_layer_metrics(classification_layer=\"global\")"
   ]
  },
  {
   "cell_type": "code",
   "execution_count": null,
   "id": "91769ecf",
   "metadata": {},
   "outputs": [],
   "source": [
    "list_metrics = [[\"Metric's name\", \"Measured metrics\"]]\n",
    "for metric in stats_metrics: \n",
    "    value = stats_dataset.get_classification_layer_metric(classification_layer=\"global\", metric=metric)\n",
    "    list_metrics.append([metric, value[0]])\n",
    "    \n",
    "display(HTML(tabulate.tabulate(list_metrics, tablefmt='html', headers=\"firstrow\")))"
   ]
  }
 ],
 "metadata": {
  "kernelspec": {
   "display_name": "dem env",
   "language": "python",
   "name": "venv"
  },
  "language_info": {
   "codemirror_mode": {
    "name": "ipython",
    "version": 3
   },
   "file_extension": ".py",
   "mimetype": "text/x-python",
   "name": "python",
   "nbconvert_exporter": "python",
   "pygments_lexer": "ipython3",
   "version": "3.8.15"
  }
 },
 "nbformat": 4,
 "nbformat_minor": 5
}
