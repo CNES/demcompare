{
 "cells": [
  {
   "cell_type": "markdown",
   "id": "minimal-planning",
   "metadata": {},
   "source": [
    "<img src=\"img/logo_demcompare.png\" width=\"100\" align=\"right\">\n",
    "\n",
    "# Demcompare: reprojection and coregistration tutorial\n"
   ]
  },
  {
   "cell_type": "markdown",
   "id": "consistent-custody",
   "metadata": {},
   "source": [
    "This notebook is an introduction to demcompare and its coregistration step."
   ]
  },
  {
   "cell_type": "markdown",
   "id": "arctic-attraction",
   "metadata": {},
   "source": [
    "#### Imports and external functions"
   ]
  },
  {
   "cell_type": "code",
   "execution_count": null,
   "id": "affecting-checklist",
   "metadata": {},
   "outputs": [],
   "source": [
    "import pyproj # pyproj as first import is necessary "
   ]
  },
  {
   "cell_type": "code",
   "execution_count": null,
   "id": "varying-drinking",
   "metadata": {},
   "outputs": [],
   "source": [
    "from snippets.utils_notebook import *"
   ]
  },
  {
   "cell_type": "code",
   "execution_count": null,
   "id": "anonymous-detroit",
   "metadata": {},
   "outputs": [],
   "source": [
    "import bokeh\n",
    "from bokeh.io import output_notebook, show\n",
    "from bokeh.plotting import figure\n",
    "from bokeh.layouts import row, column\n",
    "import xarray as xr\n",
    "import numpy as np"
   ]
  },
  {
   "cell_type": "markdown",
   "id": "weird-edmonton",
   "metadata": {},
   "source": [
    "## What is demcompare ? \n",
    "\n",
    "* Demcompare is a python software that aims at comparing two DEMs together.\n",
    "* It performs the coregistration based on the Nuth & Kääb universal coregistration method.\n",
    "* Two steps are available in demcompare coregistration's step: reprojection and coregistration \n",
    "* It provides a wide variety of standard metrics which can be classified (not shown in this Notebook)."
   ]
  },
  {
   "cell_type": "markdown",
   "id": "green-brave",
   "metadata": {},
   "source": [
    "## Context\n",
    "\n",
    "During the optional coregistration step, demcompare performs the coregistration on two uncoregistered DEMs like the ones below"
   ]
  },
  {
   "cell_type": "markdown",
   "id": "incorporated-gates",
   "metadata": {},
   "source": [
    "Superposition of two DEMs that need to be coregistered\n",
    "<img src=\"img/doc_ref.gif\" width=\"300\" align=\"center\">"
   ]
  },
  {
   "cell_type": "markdown",
   "id": "cosmetic-motor",
   "metadata": {},
   "source": [
    "## Glossary"
   ]
  },
  {
   "cell_type": "markdown",
   "id": "later-latest",
   "metadata": {},
   "source": [
    "**DEM (Digital Elevation Model)** : a 3D computer graphics representation of elevation data to represent terrain."
   ]
  },
  {
   "cell_type": "markdown",
   "id": "above-anger",
   "metadata": {},
   "source": [
    "**Coregistration** :  this step looks for offsets differences and align DEMs together"
   ]
  },
  {
   "cell_type": "markdown",
   "id": "divided-oakland",
   "metadata": {},
   "source": [
    "## Coregistration in demcompare"
   ]
  },
  {
   "cell_type": "markdown",
   "id": "graphic-closer",
   "metadata": {},
   "source": [
    "This diagram shows the coregistration steps and variables that take place during demcompare's coregistration : \n",
    "\n",
    "* Firstly, both input dems input_ref and input_sec are reprojected to a common resolution and size, obtaining the dems input_reproj_ref and input_reproj_sec\n",
    "* Once the two reprojected dems are obtained, the coregistration algorithm computes the coregistration offsets (x_off, y_off) , and creates the Transformation object that is given as an output.\n",
    "* During the coregistration algorithm, the reprojected and coregistered dems input_reproj_coreg_ref and input_reproj_coreg_sec are also computed. It is to be noticed that whilst both dems share the same origin, this may not be the input_ref origin. For this reason, those dems are only meant to be used for the altitude difference and statistics computation.\n",
    "* If the original input_sec is to be coregistered, then the coreg_sec = Transformation.apply(input_sec) function is to be used. It will indeed apply the coregistration offsets to the input dem without altering its resolution or size."
   ]
  },
  {
   "cell_type": "markdown",
   "id": "floral-thirty",
   "metadata": {},
   "source": [
    "<img src=\"img/schema_coreg.png\" width=\"800\">"
   ]
  },
  {
   "cell_type": "markdown",
   "id": "political-montreal",
   "metadata": {},
   "source": [
    "## Inputs\n",
    "\n",
    "* For the coregistration step, two DEMs are necessary\n",
    "    * input_ref and input_sec\n",
    "    * input_sec is to be coregistered on input_ref\n",
    "    * The inputs can have different size and resolution. \n",
    "    * By default, demcompare considers that the reference DEM has better resolution. "
   ]
  },
  {
   "cell_type": "markdown",
   "id": "raising-psychology",
   "metadata": {},
   "source": [
    "The user sets demcompare with a json configuration file. Each DEM is introduced with a dictionary. All dictionnary's possibilities are described in the next chunk."
   ]
  },
  {
   "cell_type": "markdown",
   "id": "random-newcastle",
   "metadata": {},
   "source": [
    "|           Name           |                  Description                  |  Type  | Default value | Required |\n",
    "|:------------------------:|:---------------------------------------------:|:------:|:-------------:|:--------:|\n",
    "|     _path_               |             Path of the input Ref             | string |      None     |    Yes   |\n",
    "|     _zunit_              |          Z axes unit of the input Ref         | string |       m       |    No    |\n",
    "| _geoid_georef_           | True if the georef of the input Ref is geoid  |  bool  |     False     |    No    |\n",
    "|  _geoid_path_            |          Geoid path of the input Ref          | string |      None     |    No    |\n",
    "|    _nodata_              |         No data value of the input Ref        |   int  |      None     |    No    |\n",
    "|  _classification_layers_ |        Path to the classification layer       | string |      None     |    No    |"
   ]
  },
  {
   "cell_type": "markdown",
   "id": "swiss-giving",
   "metadata": {},
   "source": [
    "A possible configuration for inputs is presented here. "
   ]
  },
  {
   "cell_type": "code",
   "execution_count": null,
   "id": "million-yugoslavia",
   "metadata": {},
   "outputs": [],
   "source": [
    "input_ref = {\n",
    "            \"path\" : \"data/grenoble/Copernicus_DSM_10_N45_00_E005_00_DEM.tif\",\n",
    "            \"zunit\" : \"m\",\n",
    "    }\n",
    "\n",
    "input_sec = {\n",
    "            \"path\" : \"data/grenoble/Copernicus_blurred_and_shifted.tif\",\n",
    "            \"zunit\" : \"m\",\n",
    "            \"nodata\" : -32768\n",
    "    }"
   ]
  },
  {
   "cell_type": "markdown",
   "id": "ranging-desert",
   "metadata": {},
   "source": [
    "DEMs are loaded with the load_dem function from dem_tools. The loaded DEMs are stored as input_sec and input_ref."
   ]
  },
  {
   "cell_type": "code",
   "execution_count": null,
   "id": "strange-agency",
   "metadata": {},
   "outputs": [],
   "source": [
    "from demcompare.dem_tools import load_dem\n",
    "\n",
    "# load dems \n",
    "input_sec  = load_dem(path=input_sec[\"path\"], zunit=input_sec[\"zunit\"])\n",
    "input_ref  = load_dem(path=input_ref[\"path\"], zunit=input_ref[\"zunit\"])"
   ]
  },
  {
   "cell_type": "markdown",
   "id": "indirect-liberal",
   "metadata": {},
   "source": [
    "DEMs are stored in an xarray.Dataset with demcompare's dataset structure.  Demcompare's dataset is described in the next chunk."
   ]
  },
  {
   "cell_type": "markdown",
   "id": "outstanding-environment",
   "metadata": {},
   "source": [
    "| **Dataset's element** |                    **Definition**                    |\n",
    "|:---------------------:|:----------------------------------------------------:|\n",
    "| **Dimension/Coordinate**                                                     |\n",
    "|          row          |                     number of row                    |\n",
    "|          col          |                   number of columns                  |\n",
    "|       trans_len       |         indice link to georef_transform datas        |\n",
    "|    **georef_transform**                                                      |\n",
    "|           c           |         x-coordinate of the upper left pixel         |\n",
    "|           a           |   pixel size in the x-direction in map units/pixel   |\n",
    "|           b           |                 rotation about x-axis                |\n",
    "|           f           |         y-coordinate of the upper left pixel         |\n",
    "|           d           |                 rotation about y-axis                |\n",
    "|           e           | pixel size in the y-direction in map units, negative |\n",
    "|       **attributes**                                                         |\n",
    "|         nodata        |                  image nodata value                  |\n",
    "|       input_img       |                   image input path                   |\n",
    "|          crs          |                       image crs                      |\n",
    "|          xres         |         x resolution (value of transform[1])         |\n",
    "|          yres         |         y resolution (value of transform[5])         |\n",
    "|       plani_unit      |             georefence's planimetric unit            |\n",
    "|         zunit         |               input image z unit value               |\n",
    "|         bounds        |                     image bounds                     |\n",
    "|    source_rasterio    |        rasterio's DatasetReader object or None       |\n",
    "|       geoid_path      |                      geoid path                      |"
   ]
  },
  {
   "cell_type": "code",
   "execution_count": null,
   "id": "norman-ghost",
   "metadata": {},
   "outputs": [],
   "source": [
    "input_ref"
   ]
  },
  {
   "cell_type": "markdown",
   "id": "behavioral-disaster",
   "metadata": {},
   "source": [
    "Here, one can visualize the superposition of both DEMs and notice the offsets between them. They also differ in size and resolution. "
   ]
  },
  {
   "cell_type": "code",
   "execution_count": null,
   "id": "smooth-advertiser",
   "metadata": {},
   "outputs": [],
   "source": [
    "show(stack_dems(input_ref, input_sec, \"Originals DEMS\"))"
   ]
  },
  {
   "cell_type": "markdown",
   "id": "smaller-length",
   "metadata": {},
   "source": [
    "# Demcompare's coregistration pipeline"
   ]
  },
  {
   "cell_type": "markdown",
   "id": "relevant-assessment",
   "metadata": {},
   "source": [
    "# Reprojection step\n",
    "\n",
    "This step reprojects both DEMs into the same resolution and size. The common resolution is defined by the parameter sampling_source. By default, the parameter sampling_source is set to \"sec\". That means that both reprojected DEMs will have the sec's resolution, and hence the ref will be interpolated during reprojection. The size of the reprojected DEMs is their common georeferenced intersection.     \n",
    "\n",
    "**Warning** : This step is automatically handled by the coregistration class. The next 3 chunks are only here to show the reprojection step importance.  "
   ]
  },
  {
   "cell_type": "markdown",
   "id": "progressive-insurance",
   "metadata": {},
   "source": [
    "The function reproject_dems from dem_tools is called for the purposes of the notebook."
   ]
  },
  {
   "cell_type": "code",
   "execution_count": null,
   "id": "lined-pharmaceutical",
   "metadata": {},
   "outputs": [],
   "source": [
    "from demcompare.dem_tools import reproject_dems"
   ]
  },
  {
   "cell_type": "markdown",
   "id": "charitable-compact",
   "metadata": {},
   "source": [
    "We reproject the inputs in the space "
   ]
  },
  {
   "cell_type": "code",
   "execution_count": null,
   "id": "numerical-society",
   "metadata": {},
   "outputs": [],
   "source": [
    "reproj_sec, reproj_ref, _ = reproject_dems(input_sec, input_ref)"
   ]
  },
  {
   "cell_type": "markdown",
   "id": "sought-kelly",
   "metadata": {},
   "source": [
    "Here, you can see both DEMS in the same resolution and size"
   ]
  },
  {
   "cell_type": "code",
   "execution_count": null,
   "id": "bottom-senegal",
   "metadata": {},
   "outputs": [],
   "source": [
    "show(stack_dems(reproj_sec, reproj_ref, \"Reprojected DEMS\"))"
   ]
  },
  {
   "cell_type": "markdown",
   "id": "equipped-highland",
   "metadata": {},
   "source": [
    "# Coregistration step"
   ]
  },
  {
   "cell_type": "markdown",
   "id": "pursuant-contractor",
   "metadata": {},
   "source": [
    "We call the coregistration class"
   ]
  },
  {
   "cell_type": "code",
   "execution_count": null,
   "id": "governing-toilet",
   "metadata": {},
   "outputs": [],
   "source": [
    "from demcompare.coregistration import Coregistration"
   ]
  },
  {
   "cell_type": "markdown",
   "id": "narrow-liberty",
   "metadata": {},
   "source": [
    "The user sets demcompare with a json configuration file. Each pipeline's step is introduced with a dictionary. All possibilities are described in the next chunk."
   ]
  },
  {
   "cell_type": "markdown",
   "id": "spectacular-trainer",
   "metadata": {},
   "source": [
    "|             Name            |                          Description                          |  Type  |    Default Value   | Required |\n",
    "|:---------------------------:|:-------------------------------------------------------------:|:------:|:------------------:|----------|\n",
    "|        _method_name_        |               Planimetric coregistration method               | string | nuth_kaab_internal | No       |\n",
    "|    _number_of_iterations_   |       Number of iterations of the coregistration method       |   int  |          6         | No       |\n",
    "| _estimated_initial_shift_x_ |            Estimated initial x coregistration shift           |   int  |          0         | No       |\n",
    "| _estimated_initial_shift_y_ |            Estimated initial y coregistration shift           |   int  |          0         | No       |\n",
    "|      _sampling_source_      |                Sampling source for reprojection               | string |         sec        | No       |\n",
    "| _save_optional_outputs_ | If save coregistration method outputs such as iteration plots | string |        False       | No       |"
   ]
  },
  {
   "cell_type": "markdown",
   "id": "frozen-geometry",
   "metadata": {},
   "source": [
    "A possible configuration for inputs is presented here. "
   ]
  },
  {
   "cell_type": "code",
   "execution_count": null,
   "id": "hundred-steam",
   "metadata": {},
   "outputs": [],
   "source": [
    "cfg = {\n",
    "    \"coregistration\": {\n",
    "        \"method_name\": \"nuth_kaab_internal\", #one method available for now\n",
    "        \"number_of_iterations\": 6,\n",
    "        \"estimated_initial_shift_x\": 0,\n",
    "        \"estimated_initial_shift_y\": 0,\n",
    "    }\n",
    "}"
   ]
  },
  {
   "cell_type": "markdown",
   "id": "empirical-indonesia",
   "metadata": {},
   "source": [
    "We create coregistration object"
   ]
  },
  {
   "cell_type": "code",
   "execution_count": null,
   "id": "sunset-gabriel",
   "metadata": {},
   "outputs": [],
   "source": [
    "coregistration_ = Coregistration(cfg[\"coregistration\"])"
   ]
  },
  {
   "cell_type": "markdown",
   "id": "naval-thumb",
   "metadata": {},
   "source": [
    "## Apply transformation to original sec DEM"
   ]
  },
  {
   "cell_type": "markdown",
   "id": "premier-apparatus",
   "metadata": {},
   "source": [
    "The coregistration is computed and results are stored in transformation."
   ]
  },
  {
   "cell_type": "code",
   "execution_count": null,
   "id": "baking-mexican",
   "metadata": {},
   "outputs": [],
   "source": [
    "transformation = coregistration_.compute_coregistration(input_sec, input_ref)"
   ]
  },
  {
   "cell_type": "markdown",
   "id": "confidential-pavilion",
   "metadata": {},
   "source": [
    "Different transformation's attributes are printed"
   ]
  },
  {
   "cell_type": "code",
   "execution_count": null,
   "id": "educated-november",
   "metadata": {},
   "outputs": [],
   "source": [
    "print(transformation)"
   ]
  },
  {
   "cell_type": "markdown",
   "id": "played-attention",
   "metadata": {},
   "source": [
    "The offsets are applied to original second dem "
   ]
  },
  {
   "cell_type": "code",
   "execution_count": null,
   "id": "occupied-participation",
   "metadata": {},
   "outputs": [],
   "source": [
    "coreg_sec = transformation.apply_transform(input_sec)"
   ]
  },
  {
   "cell_type": "markdown",
   "id": "threaded-record",
   "metadata": {},
   "source": [
    "Here, you can visualize Reference DEM with the coregistered second DEM."
   ]
  },
  {
   "cell_type": "code",
   "execution_count": null,
   "id": "written-yacht",
   "metadata": {},
   "outputs": [],
   "source": [
    "show(stack_dems(input_ref, coreg_sec, \"Referenced DEM and coregistered Second DEM\"))"
   ]
  },
  {
   "cell_type": "markdown",
   "id": "seeing-crossing",
   "metadata": {},
   "source": [
    "# Compute altitude differences\n",
    "\n",
    "* Demcompare also computes the altitude differences between DEM"
   ]
  },
  {
   "cell_type": "markdown",
   "id": "international-rabbit",
   "metadata": {},
   "source": [
    "We access Demcompare's reprojected DEMs in order to compute altitude difference."
   ]
  },
  {
   "cell_type": "code",
   "execution_count": null,
   "id": "hearing-amendment",
   "metadata": {},
   "outputs": [],
   "source": [
    "reproj_ref = coregistration_.reproj_ref\n",
    "reproj_sec = coregistration_.reproj_sec"
   ]
  },
  {
   "cell_type": "markdown",
   "id": "removable-muslim",
   "metadata": {},
   "source": [
    "We access Demcompare's reprojected and coregistered DEMs in order to compute altitude difference."
   ]
  },
  {
   "cell_type": "code",
   "execution_count": null,
   "id": "aboriginal-empire",
   "metadata": {},
   "outputs": [],
   "source": [
    "reproj_coreg_ref = coregistration_.reproj_coreg_ref\n",
    "reproj_coreg_sec = coregistration_.reproj_coreg_sec"
   ]
  },
  {
   "cell_type": "markdown",
   "id": "organized-white",
   "metadata": {},
   "source": [
    "We use the function compute_dems_diff from dem_tools"
   ]
  },
  {
   "cell_type": "code",
   "execution_count": null,
   "id": "changing-removal",
   "metadata": {},
   "outputs": [],
   "source": [
    "from demcompare.dem_tools import compute_dems_diff"
   ]
  },
  {
   "cell_type": "markdown",
   "id": "supported-uncertainty",
   "metadata": {},
   "source": [
    "First with the reprojected DEMs we obtain the initial altitude difference"
   ]
  },
  {
   "cell_type": "code",
   "execution_count": null,
   "id": "blessed-oklahoma",
   "metadata": {},
   "outputs": [],
   "source": [
    "altitude_diff_before_coreg = compute_dems_diff(reproj_sec, reproj_ref)"
   ]
  },
  {
   "cell_type": "markdown",
   "id": "numerical-corner",
   "metadata": {},
   "source": [
    "And with the coregistered reprojected DEM we obtain the final altitude difference"
   ]
  },
  {
   "cell_type": "code",
   "execution_count": null,
   "id": "iraqi-stations",
   "metadata": {},
   "outputs": [],
   "source": [
    "altitude_diff_after_coreg = compute_dems_diff(reproj_coreg_ref, reproj_coreg_sec)"
   ]
  },
  {
   "cell_type": "markdown",
   "id": "narrative-brunei",
   "metadata": {},
   "source": [
    "You can visualize the altitude differences between the DEMs before and after the coregistration"
   ]
  },
  {
   "cell_type": "code",
   "execution_count": null,
   "id": "87562b20",
   "metadata": {},
   "outputs": [],
   "source": [
    "altitude_diff_after_coreg"
   ]
  },
  {
   "cell_type": "code",
   "execution_count": null,
   "id": "nuclear-samba",
   "metadata": {},
   "outputs": [],
   "source": [
    "show(side_by_side_fig(altitude_diff_before_coreg, \n",
    "                altitude_diff_after_coreg,\n",
    "                \"Initial altitude difference\",\n",
    "                \"Final altitude difference\"))"
   ]
  },
  {
   "cell_type": "markdown",
   "id": "2f2fa0f4",
   "metadata": {},
   "source": [
    "# Some precision about reprojection"
   ]
  },
  {
   "cell_type": "markdown",
   "id": "honest-water",
   "metadata": {},
   "source": [
    "User can inverse ref and sec for the reprojection with  \"sampling_source\" parameter. But he has to be careful. **Indeed, using reference dem with low resolution can alter coregistration results.** "
   ]
  },
  {
   "cell_type": "markdown",
   "id": "3ebd65f3",
   "metadata": {},
   "source": [
    "Reminder of coregistraion steps:"
   ]
  },
  {
   "cell_type": "markdown",
   "id": "732d394c",
   "metadata": {},
   "source": [
    "<img src=\"img/schema_coreg.png\" width=\"800\">"
   ]
  },
  {
   "cell_type": "markdown",
   "id": "ec70efa8",
   "metadata": {},
   "source": [
    "With default `sampling_source` parameter, the reference dem will be reprojected to the resolution and size of the second dem."
   ]
  },
  {
   "cell_type": "markdown",
   "id": "textile-reflection",
   "metadata": {},
   "source": [
    "But another possible configuration for inputs is presented here, with `sampling_source` parameter set to \"ref\". "
   ]
  },
  {
   "cell_type": "code",
   "execution_count": null,
   "id": "hazardous-script",
   "metadata": {},
   "outputs": [],
   "source": [
    "cfg = {\n",
    "    \"coregistration\": {\n",
    "        \"method_name\": \"nuth_kaab_internal\", #one method available for now\n",
    "        \"number_of_iterations\": 6,\n",
    "        \"estimated_initial_shift_x\": 0,\n",
    "        \"estimated_initial_shift_y\": 0,\n",
    "        # sampling source default value is \"sec\"\n",
    "        \"sampling_source\": \"ref\"\n",
    "    }\n",
    "}"
   ]
  },
  {
   "cell_type": "markdown",
   "id": "emotional-qualification",
   "metadata": {},
   "source": [
    "New coregistration object"
   ]
  },
  {
   "cell_type": "code",
   "execution_count": null,
   "id": "informed-positive",
   "metadata": {},
   "outputs": [],
   "source": [
    "coregistration_samp_ref = Coregistration(cfg[\"coregistration\"])"
   ]
  },
  {
   "cell_type": "markdown",
   "id": "undefined-nylon",
   "metadata": {},
   "source": [
    "Compute coregistration"
   ]
  },
  {
   "cell_type": "code",
   "execution_count": null,
   "id": "expressed-diabetes",
   "metadata": {},
   "outputs": [],
   "source": [
    "transformation_samp_ref = coregistration_samp_ref.compute_coregistration(input_sec, input_ref)"
   ]
  },
  {
   "cell_type": "markdown",
   "id": "architectural-nurse",
   "metadata": {},
   "source": [
    "Different transformation's attributes are printed. Here, the difference between the offsets obtained with the sampling source parameter as ref and sec is not big but notice that it can be."
   ]
  },
  {
   "cell_type": "code",
   "execution_count": null,
   "id": "multiple-practice",
   "metadata": {},
   "outputs": [],
   "source": [
    "print(transformation_samp_ref)"
   ]
  },
  {
   "cell_type": "markdown",
   "id": "fatty-stockholm",
   "metadata": {},
   "source": [
    "The offsets are applied "
   ]
  },
  {
   "cell_type": "code",
   "execution_count": null,
   "id": "thick-devil",
   "metadata": {},
   "outputs": [],
   "source": [
    "coreg_sec_samp_ref = transformation_samp_ref.apply_transform(input_sec)"
   ]
  },
  {
   "cell_type": "markdown",
   "id": "323f8c8b",
   "metadata": {},
   "source": [
    "We can visualize the effects of reprojection with some internals outputs"
   ]
  },
  {
   "cell_type": "code",
   "execution_count": null,
   "id": "547c0a08",
   "metadata": {},
   "outputs": [],
   "source": [
    "reproj_coreg_ref_samp_source_ref = coregistration_samp_ref.reproj_coreg_ref\n",
    "reproj_coreg_sec_samp_source_ref = coregistration_samp_ref.reproj_coreg_sec\n",
    "\n",
    "reproj_coreg_ref_samp_source_sec = coregistration_.reproj_coreg_ref\n",
    "reproj_coreg_sec_samp_source_sec = coregistration_.reproj_coreg_sec\n",
    "\n",
    "reproj_ref_samp_source_ref = coregistration_samp_ref.reproj_ref\n",
    "reproj_sec_samp_source_ref = coregistration_samp_ref.reproj_sec"
   ]
  },
  {
   "cell_type": "markdown",
   "id": "935bdd1f",
   "metadata": {},
   "source": [
    "Internal reprojection with default configuration"
   ]
  },
  {
   "cell_type": "code",
   "execution_count": null,
   "id": "1640a1be",
   "metadata": {},
   "outputs": [],
   "source": [
    "show(side_by_side_fig(reproj_coreg_ref_samp_source_ref, \n",
    "                 reproj_coreg_sec_samp_source_ref, \n",
    "                 \"Internal reprojection reference dem with sampling source as ref\",\n",
    "                 \"Internal reprojection second dem with sampling source as ref\"))"
   ]
  },
  {
   "cell_type": "markdown",
   "id": "23a34709",
   "metadata": {},
   "source": [
    "Internal reprojection with sampling_source parameter to \"ref\""
   ]
  },
  {
   "cell_type": "code",
   "execution_count": null,
   "id": "5e6adfa0",
   "metadata": {},
   "outputs": [],
   "source": [
    "show(side_by_side_fig(reproj_coreg_ref_samp_source_sec, \n",
    "                 reproj_coreg_sec_samp_source_sec, \n",
    "                 \"Internal reprojection reference dem with sampling source as ref\",\n",
    "                 \"Internal reprojection second dem with sampling source as ref\"))"
   ]
  },
  {
   "cell_type": "markdown",
   "id": "aggressive-rehabilitation",
   "metadata": {},
   "source": [
    "We calculate the altitude difference with the reference dem as sampling source"
   ]
  },
  {
   "cell_type": "code",
   "execution_count": null,
   "id": "associate-iraqi",
   "metadata": {},
   "outputs": [],
   "source": [
    "altitude_diff_samp_source_before = compute_dems_diff(reproj_ref_samp_source_ref, reproj_sec_samp_source_ref)\n",
    "altitude_diff_samp_source_after = compute_dems_diff(reproj_coreg_ref_samp_source_ref, reproj_coreg_sec_samp_source_ref)"
   ]
  },
  {
   "cell_type": "code",
   "execution_count": null,
   "id": "incorporate-catering",
   "metadata": {},
   "outputs": [],
   "source": [
    "show(side_by_side_fig(altitude_diff_samp_source_before, \n",
    "                 altitude_diff_samp_source_after, \n",
    "                 \"Initial altitude difference\",\n",
    "                 \"Final altitude difference\"))"
   ]
  },
  {
   "cell_type": "markdown",
   "id": "convinced-representative",
   "metadata": {},
   "source": [
    "To visualize outputs with the new configuration we use the altitude difference of the coreg_reproj DEMs. We can notice the difference in the resolution between both altitude differences."
   ]
  },
  {
   "cell_type": "code",
   "execution_count": null,
   "id": "postal-novelty",
   "metadata": {},
   "outputs": [],
   "source": [
    "show(side_by_side_fig(altitude_diff_samp_source_after, \n",
    "                 altitude_diff_after_coreg, \n",
    "                 \"Altitude difference sampling_source ref\",\n",
    "                 \"Altitude difference sampling_source sec\"))"
   ]
  }
 ],
 "metadata": {
  "kernelspec": {
   "display_name": "dem env",
   "language": "python",
   "name": "venv"
  },
  "language_info": {
   "codemirror_mode": {
    "name": "ipython",
    "version": 3
   },
   "file_extension": ".py",
   "mimetype": "text/x-python",
   "name": "python",
   "nbconvert_exporter": "python",
   "pygments_lexer": "ipython3",
   "version": "3.8.15"
  }
 },
 "nbformat": 4,
 "nbformat_minor": 5
}
