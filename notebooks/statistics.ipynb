{
 "cells": [
  {
   "cell_type": "markdown",
   "id": "italian-fight",
   "metadata": {},
   "source": [
    "<img src=\"img/logo_demcompare.png\" width=\"100\" align=\"right\">\n",
    "\n",
    "# Demcompare: statistics tutorial"
   ]
  },
  {
   "cell_type": "markdown",
   "id": "driven-consolidation",
   "metadata": {},
   "source": [
    "This notebook is an introduction to demcompare and its statistic step."
   ]
  },
  {
   "cell_type": "markdown",
   "id": "regulation-brand",
   "metadata": {},
   "source": [
    "## Imports and external functions"
   ]
  },
  {
   "cell_type": "code",
   "execution_count": null,
   "id": "elementary-patent",
   "metadata": {},
   "outputs": [],
   "source": [
    "import pyproj # pyproj as first import is necessary"
   ]
  },
  {
   "cell_type": "code",
   "execution_count": null,
   "id": "center-angle",
   "metadata": {},
   "outputs": [],
   "source": [
    "from snippets.utils_notebook import *"
   ]
  },
  {
   "cell_type": "code",
   "execution_count": null,
   "id": "lasting-refrigerator",
   "metadata": {},
   "outputs": [],
   "source": [
    "from IPython.display import HTML, display\n",
    "import tabulate"
   ]
  },
  {
   "cell_type": "markdown",
   "id": "mysterious-navigator",
   "metadata": {},
   "source": [
    "## What is Demcompare ? \n",
    "\n",
    "* Demcompare is a python software that aims at comparing two DEMs together.\n",
    "* It performs the coregistration based on the Nuth & Kääb universal coregistration method.\n",
    "* Two steps are available in DEMcompare coregistration's step: reprojection and coregistration (not shown in this Notebook)\n",
    "* It provides a wide variety of standard metrics which can be classified."
   ]
  },
  {
   "cell_type": "markdown",
   "id": "cardiac-direction",
   "metadata": {},
   "source": [
    "**If just the statistics step is present on the input configuration:**\n",
    "\n",
    "Demcompare can compute a wide variety of statistics on either an input DEM, or the difference between two input DEMs. The statistics module can consider different number of inputs:\n",
    "\n",
    "* If one single DEM is specified in the configuration; in this case the input or default metrics will directly be computed on the input DEM.\n",
    "* If two DEMs are specified in the configuration; demcompare will do the reprojection for both DEMs to have the same resolution and size, and the difference between both reprojected DEMs will be considered to compute the input or default metrics."
   ]
  },
  {
   "cell_type": "markdown",
   "id": "continuous-vector",
   "metadata": {},
   "source": [
    "## Glossary\n",
    "\n",
    "**DEM (Digital Elevation Model)** : a 3D computer graphics representation of elevation data to represent terrain."
   ]
  },
  {
   "cell_type": "markdown",
   "id": "brazilian-wellington",
   "metadata": {},
   "source": [
    "### 1. For one single DEM\n",
    "\n",
    "We first present the statistical step for one DEM."
   ]
  },
  {
   "cell_type": "markdown",
   "id": "photographic-cartridge",
   "metadata": {},
   "source": [
    "You must load the DEM with the `load_dem` function"
   ]
  },
  {
   "cell_type": "code",
   "execution_count": null,
   "id": "particular-student",
   "metadata": {},
   "outputs": [],
   "source": [
    "from demcompare.dem_tools import load_dem"
   ]
  },
  {
   "cell_type": "markdown",
   "id": "abandoned-conditioning",
   "metadata": {},
   "source": [
    "The DEM is configurated using a dictionnary"
   ]
  },
  {
   "cell_type": "code",
   "execution_count": null,
   "id": "dangerous-psychiatry",
   "metadata": {},
   "outputs": [],
   "source": [
    "dem_dict = {\n",
    "            \"path\" : \"data/grenoble/Copernicus_DSM_10_N45_00_E005_00_DEM.tif\",\n",
    "            \"zunit\" : \"m\",\n",
    "            \"nodata\" : -32768\n",
    "    }"
   ]
  },
  {
   "cell_type": "markdown",
   "id": "novel-analyst",
   "metadata": {},
   "source": [
    "Load dem with the following function"
   ]
  },
  {
   "cell_type": "code",
   "execution_count": null,
   "id": "identified-button",
   "metadata": {},
   "outputs": [],
   "source": [
    "dem = load_dem(\n",
    "    path=dem_dict[\"path\"], zunit=dem_dict[\"zunit\"]\n",
    ")"
   ]
  },
  {
   "cell_type": "markdown",
   "id": "e411b990",
   "metadata": {},
   "source": [
    "Import StatsProcessing class"
   ]
  },
  {
   "cell_type": "code",
   "execution_count": null,
   "id": "a6be8443",
   "metadata": {},
   "outputs": [],
   "source": [
    "from demcompare.stats_processing import StatsProcessing"
   ]
  },
  {
   "cell_type": "markdown",
   "id": "2b73ccb1",
   "metadata": {},
   "source": [
    "You can show all available metrics that can be computed with demcompare"
   ]
  },
  {
   "cell_type": "code",
   "execution_count": null,
   "id": "0c5743d7",
   "metadata": {},
   "outputs": [],
   "source": [
    "print(StatsProcessing.show_all_available_metrics())"
   ]
  },
  {
   "cell_type": "markdown",
   "id": "c4a7a60d",
   "metadata": {},
   "source": [
    "If you want the statistics step to be calculated, you must instantiate the dictionary in the configuration."
   ]
  },
  {
   "cell_type": "code",
   "execution_count": null,
   "id": "be9b1158",
   "metadata": {},
   "outputs": [],
   "source": [
    "cfg = {\"statistics\":{}} "
   ]
  },
  {
   "cell_type": "markdown",
   "id": "72e6a40f",
   "metadata": {},
   "source": [
    "Create the stats_processing object including configuration and DEM."
   ]
  },
  {
   "cell_type": "code",
   "execution_count": null,
   "id": "66f684c6",
   "metadata": {},
   "outputs": [],
   "source": [
    "stats_processing = StatsProcessing(cfg['statistics'], dem)"
   ]
  },
  {
   "cell_type": "markdown",
   "id": "5ca4f50e",
   "metadata": {},
   "source": [
    "All available classification layer that will be computed by demcompare with your configuration:"
   ]
  },
  {
   "cell_type": "code",
   "execution_count": null,
   "id": "8ba13c1c",
   "metadata": {},
   "outputs": [],
   "source": [
    "print(stats_processing.show_available_classification_layers())"
   ]
  },
  {
   "cell_type": "markdown",
   "id": "southern-sight",
   "metadata": {},
   "source": [
    "#### 1.1. Global scalar metrics"
   ]
  },
  {
   "cell_type": "markdown",
   "id": "atmospheric-serial",
   "metadata": {},
   "source": [
    "* The global classification is a type of segmentation classification which is always computed by default.\n",
    "* This layer has a single class where all valid pixels are considered. \n",
    "* If no classification layers are specified in the input configuration, only the global classification will be considered.\n",
    "* All metrics here are scalar"
   ]
  },
  {
   "cell_type": "markdown",
   "id": "annual-canal",
   "metadata": {},
   "source": [
    "Calculate metrics requested in the configuration and store the result in a StatsDataset object"
   ]
  },
  {
   "cell_type": "code",
   "execution_count": null,
   "id": "romance-publicity",
   "metadata": {},
   "outputs": [],
   "source": [
    "stats_dataset = stats_processing.compute_stats()"
   ]
  },
  {
   "cell_type": "markdown",
   "id": "robust-separate",
   "metadata": {},
   "source": [
    "Here, we present the way to get the results for computed metrics.  "
   ]
  },
  {
   "cell_type": "markdown",
   "id": "other-demand",
   "metadata": {},
   "source": [
    "Get the name of all calculated metrics with `get_classification_layer_metrics`. The type of classification layer must be mentioned as an argument."
   ]
  },
  {
   "cell_type": "code",
   "execution_count": null,
   "id": "southeast-protocol",
   "metadata": {},
   "outputs": [],
   "source": [
    "stats_metrics = stats_dataset.get_classification_layer_metrics(classification_layer=\"global\")\n",
    "print(stats_metrics)"
   ]
  },
  {
   "cell_type": "markdown",
   "id": "great-harvey",
   "metadata": {},
   "source": [
    "The metrics are always computed on valid pixels. Valid pixels are those whose value is different than NaN and the nodata value"
   ]
  },
  {
   "cell_type": "markdown",
   "id": "martial-harrison",
   "metadata": {},
   "source": [
    "Apart from only considering the valid pixels, the user may also specify the `remove_outliers` option in the input configuration. This option will also filter all DEM pixels outside (mu + 3 sigma) and (mu - 3 sigma), being mu the mean and sigma the standard deviation of all valid pixels in the DEM."
   ]
  },
  {
   "cell_type": "markdown",
   "id": "sustained-vision",
   "metadata": {},
   "source": [
    "To get the metric's value you can use the `get_classification_layer_metric`. The type of classification layer and the metric name must be mentioned as an argument."
   ]
  },
  {
   "cell_type": "code",
   "execution_count": null,
   "id": "preceding-snowboard",
   "metadata": {},
   "outputs": [],
   "source": [
    "list_metrics = [[\"Metric's name\", \"Measured metrics\"]]\n",
    "for metric in stats_metrics: \n",
    "    value = stats_dataset.get_classification_layer_metric(classification_layer=\"global\", metric=metric)\n",
    "    list_metrics.append([metric, value[0]])\n",
    "    \n",
    "display(HTML(tabulate.tabulate(list_metrics, tablefmt='html')))"
   ]
  },
  {
   "cell_type": "markdown",
   "id": "secondary-fashion",
   "metadata": {},
   "source": [
    "#### 1.2. Classification layers"
   ]
  },
  {
   "cell_type": "markdown",
   "id": "loose-locking",
   "metadata": {},
   "source": [
    "Classification layers are a way to classify the DEM pixels in classes according to different criteria in order to compute specific statistics according to each class. We have seen the global classification layer but there are three others."
   ]
  },
  {
   "cell_type": "markdown",
   "id": "pointed-motivation",
   "metadata": {},
   "source": [
    "##### 1.2.1. Slope\n",
    "\n",
    "This type of classification computes the slope of the input DEMs and classifies the pixels according to the range on which its slope falls."
   ]
  },
  {
   "cell_type": "markdown",
   "id": "impaired-trading",
   "metadata": {},
   "source": [
    "Import compute_dem_slope function"
   ]
  },
  {
   "cell_type": "code",
   "execution_count": null,
   "id": "superb-citation",
   "metadata": {},
   "outputs": [],
   "source": [
    "from demcompare.dem_tools import compute_dem_slope"
   ]
  },
  {
   "cell_type": "markdown",
   "id": "portable-modem",
   "metadata": {},
   "source": [
    "Compute slope and add it as a classification_layer"
   ]
  },
  {
   "cell_type": "code",
   "execution_count": null,
   "id": "buried-valuable",
   "metadata": {},
   "outputs": [],
   "source": [
    "slope_dem = compute_dem_slope(dem)"
   ]
  },
  {
   "cell_type": "markdown",
   "id": "driving-resource",
   "metadata": {},
   "source": [
    "To use the slope classification layer for statistics, the user must specify the slope configuration in the statistics configuration. \n",
    "\n",
    "Note that you can specify the metric you need for this classification layer. Min and max for example."
   ]
  },
  {
   "cell_type": "code",
   "execution_count": null,
   "id": "increasing-contact",
   "metadata": {},
   "outputs": [],
   "source": [
    "cfg = {\n",
    "    \"statistics\": {\n",
    "        \"classification_layers\": {\n",
    "             \"Slope0\": {\n",
    "                  \"type\": \"slope\",\n",
    "                  \"ranges\": [0, 25, 45, 65],\n",
    "                  \"metrics\": [\"min\", \"max\"]\n",
    "             },\n",
    "        }\n",
    "    }\n",
    "}"
   ]
  },
  {
   "cell_type": "markdown",
   "id": "substantial-bridge",
   "metadata": {},
   "source": [
    "The StatsProcessing object is instantiate and the slope classification named Slope0 is computed on the new dem."
   ]
  },
  {
   "cell_type": "code",
   "execution_count": null,
   "id": "given-complexity",
   "metadata": {},
   "outputs": [],
   "source": [
    "stats_processing_ = StatsProcessing(cfg['statistics'], slope_dem)"
   ]
  },
  {
   "cell_type": "markdown",
   "id": "useful-reserve",
   "metadata": {},
   "source": [
    "Calculate metrics requested in the configuration and store the result in a StatsDataset object"
   ]
  },
  {
   "cell_type": "code",
   "execution_count": null,
   "id": "delayed-admission",
   "metadata": {},
   "outputs": [],
   "source": [
    "stats_dataset = stats_processing_.compute_stats()"
   ]
  },
  {
   "cell_type": "markdown",
   "id": "negative-burke",
   "metadata": {},
   "source": [
    "The Slope0 classification layer is now available."
   ]
  },
  {
   "cell_type": "code",
   "execution_count": null,
   "id": "interesting-postcard",
   "metadata": {},
   "outputs": [],
   "source": [
    "stats_dataset.get_classification_layer_names()"
   ]
  },
  {
   "cell_type": "markdown",
   "id": "chronic-theorem",
   "metadata": {},
   "source": [
    "Get all available metrics for this classification layer. nbpts and percent_valid_points are always calculated for classification layers. But we can also see the min and max metrics."
   ]
  },
  {
   "cell_type": "code",
   "execution_count": null,
   "id": "foreign-output",
   "metadata": {},
   "outputs": [],
   "source": [
    "stats_metrics = stats_dataset.get_classification_layer_metrics(classification_layer = 'Slope0')\n",
    "print(stats_metrics)"
   ]
  },
  {
   "cell_type": "markdown",
   "id": "beginning-nursing",
   "metadata": {},
   "source": [
    "Get all available classes for this classification layer."
   ]
  },
  {
   "cell_type": "code",
   "execution_count": null,
   "id": "alert-cooler",
   "metadata": {},
   "outputs": [],
   "source": [
    "ranges_slope = list(stats_processing_.classification_layers[0].classes.values())"
   ]
  },
  {
   "cell_type": "markdown",
   "id": "voluntary-exercise",
   "metadata": {},
   "source": [
    "Display all measured values for Slope0 according to class."
   ]
  },
  {
   "cell_type": "code",
   "execution_count": null,
   "id": "divided-aircraft",
   "metadata": {},
   "outputs": [],
   "source": [
    "list_metrics = [[\"Metric name\", \"Measure\"]]\n",
    "list_metrics.append([\"ranges slope\", ranges_slope])\n",
    "for metric in stats_metrics: \n",
    "    measure = stats_dataset.get_classification_layer_metric(classification_layer=\"Slope0\", metric=metric)\n",
    "    list_metrics.append([metric, measure])\n",
    "    \n",
    "display(HTML(tabulate.tabulate(list_metrics, tablefmt='html')))"
   ]
  },
  {
   "cell_type": "markdown",
   "id": "755b3d62",
   "metadata": {},
   "source": [
    "Getting a special measure for Slope (ex: minimum for ranges [0%:4%[)"
   ]
  },
  {
   "cell_type": "code",
   "execution_count": null,
   "id": "416dcea3",
   "metadata": {},
   "outputs": [],
   "source": [
    "print(stats_dataset.get_classification_layer_metric(classification_layer=\"Slope0\", metric=\"min\", classif_class=0))"
   ]
  },
  {
   "cell_type": "markdown",
   "id": "attended-salem",
   "metadata": {},
   "source": [
    "Plot classification layers masks according to the class"
   ]
  },
  {
   "cell_type": "code",
   "execution_count": null,
   "id": "valued-garlic",
   "metadata": {},
   "outputs": [],
   "source": [
    "plot_layers(stats_processing_, 'ref', dem, 'Slope masks on DEM', 'Slope0')"
   ]
  },
  {
   "cell_type": "markdown",
   "id": "black-booth",
   "metadata": {},
   "source": [
    "##### 1.2.2. Segmentation\n",
    "\n",
    "This type of classification layer considers an input classification mask in order to classify the DEM pixels. "
   ]
  },
  {
   "cell_type": "markdown",
   "id": "charitable-evanescence",
   "metadata": {},
   "source": [
    "The classification mask must be specified with its classes, and linked to one of the input DEMs defined in the input configuration as follows:"
   ]
  },
  {
   "cell_type": "code",
   "execution_count": null,
   "id": "oriented-isaac",
   "metadata": {},
   "outputs": [],
   "source": [
    "dem_dict = {\n",
    "            \"path\" : \"data/grenoble/Copernicus_DSM_10_N45_00_E005_00_DEM.tif\",\n",
    "            \"zunit\" : \"m\",\n",
    "            \"georef\": \"WGS84\",\n",
    "            \"classification_layers\": {\n",
    "                \"Status\": {\"map_path\": \"data/grenoble/copernicus_status.tif\"}\n",
    "            }\n",
    "        }"
   ]
  },
  {
   "cell_type": "markdown",
   "id": "homeless-childhood",
   "metadata": {},
   "source": [
    "Here we need to reload the DEM with the classification layer."
   ]
  },
  {
   "cell_type": "code",
   "execution_count": null,
   "id": "lined-killer",
   "metadata": {},
   "outputs": [],
   "source": [
    "dem = load_dem(path=dem_dict[\"path\"],                     \n",
    "                     zunit=dem_dict[\"zunit\"], \n",
    "                     classification_layers=dem_dict[\"classification_layers\"])"
   ]
  },
  {
   "cell_type": "markdown",
   "id": "ahead-lyric",
   "metadata": {},
   "source": [
    "To use the segmentation classification layer for statistics, the user must specify the segmentation configuration in the statistics configuration.\n",
    "\n",
    "Note that you can specify the metric you need for this classification layer. Mean for example."
   ]
  },
  {
   "cell_type": "code",
   "execution_count": null,
   "id": "demographic-source",
   "metadata": {},
   "outputs": [],
   "source": [
    "cfg = {\n",
    "    \"statistics\": {\n",
    "        \"classification_layers\": {\n",
    "             \"Status\": {\n",
    "                  \"type\": \"segmentation\",\n",
    "                  \"classes\": {\"no data\": [0],\"fields\": [1],\"cities\": [2], \"waters\": [3],\"forests\": [4]},\n",
    "                 \"metrics\" : [\"mean\"]\n",
    "             }\n",
    "        }\n",
    "    }\n",
    "}"
   ]
  },
  {
   "cell_type": "markdown",
   "id": "mobile-conditions",
   "metadata": {},
   "source": [
    "StatsPair.init will generate the segmentation classification layers on the new dem."
   ]
  },
  {
   "cell_type": "code",
   "execution_count": null,
   "id": "rotary-turkish",
   "metadata": {},
   "outputs": [],
   "source": [
    "stats_processing_ = StatsProcessing(cfg['statistics'], dem)"
   ]
  },
  {
   "cell_type": "markdown",
   "id": "prime-lesson",
   "metadata": {},
   "source": [
    "Calculate metrics requested in the configuration and store the result in a StatsDataset object"
   ]
  },
  {
   "cell_type": "code",
   "execution_count": null,
   "id": "after-spine",
   "metadata": {},
   "outputs": [],
   "source": [
    "stats_dataset = stats_processing_.compute_stats()"
   ]
  },
  {
   "cell_type": "markdown",
   "id": "distinguished-element",
   "metadata": {},
   "source": [
    "The Status classification layer is now available."
   ]
  },
  {
   "cell_type": "code",
   "execution_count": null,
   "id": "stuck-calculator",
   "metadata": {},
   "outputs": [],
   "source": [
    "stats_dataset.get_classification_layer_names()"
   ]
  },
  {
   "cell_type": "markdown",
   "id": "green-matthew",
   "metadata": {},
   "source": [
    "Get all available metrics for this classification layer."
   ]
  },
  {
   "cell_type": "code",
   "execution_count": null,
   "id": "direct-adams",
   "metadata": {},
   "outputs": [],
   "source": [
    "stats_metrics = stats_dataset.get_classification_layer_metrics(classification_layer = 'Status')\n",
    "print(stats_metrics)"
   ]
  },
  {
   "cell_type": "markdown",
   "id": "vanilla-trance",
   "metadata": {},
   "source": [
    "Get all available classes for this classification layer."
   ]
  },
  {
   "cell_type": "code",
   "execution_count": null,
   "id": "framed-warren",
   "metadata": {},
   "outputs": [],
   "source": [
    "ranges_seg = list(stats_processing_.classification_layers[0].classes.keys())"
   ]
  },
  {
   "cell_type": "markdown",
   "id": "different-legislation",
   "metadata": {},
   "source": [
    "Display all measured values for the Status according to the class."
   ]
  },
  {
   "cell_type": "code",
   "execution_count": null,
   "id": "gentle-attention",
   "metadata": {},
   "outputs": [],
   "source": [
    "list_metrics = [[\"Metric name\", \"Measure\"]]\n",
    "list_metrics.append([\"Classes segmentation\", ranges_seg])\n",
    "for metric in stats_metrics: \n",
    "    measure = stats_dataset.get_classification_layer_metric(classification_layer=\"Status\", metric=metric)\n",
    "    list_metrics.append([metric, measure])\n",
    "\n",
    "display(HTML(tabulate.tabulate(list_metrics, tablefmt='html')))"
   ]
  },
  {
   "cell_type": "markdown",
   "id": "rough-determination",
   "metadata": {},
   "source": [
    "Plot classification layers mask according to the class"
   ]
  },
  {
   "cell_type": "code",
   "execution_count": null,
   "id": "registered-receipt",
   "metadata": {},
   "outputs": [],
   "source": [
    "plot_layers(stats_processing_, 'ref', dem, 'Classification layers from segmentation on DEM', 'Status')"
   ]
  },
  {
   "cell_type": "markdown",
   "id": "informative-poison",
   "metadata": {},
   "source": [
    "##### 1.2.3. Fusion\n",
    "\n",
    "* This type of classification layer is created from two or more existing classification layers, as it is the result of fusing the classes of different classification layers.\n",
    "* It is to be noticed that only classification layers belonging to the same support DEM can be fused."
   ]
  },
  {
   "cell_type": "markdown",
   "id": "strong-commitment",
   "metadata": {},
   "source": [
    "Fusion schema : \n",
    "<img src=\"img/stats_fusion_schema.png\" width=\"800\">"
   ]
  },
  {
   "cell_type": "markdown",
   "id": "accompanied-terrace",
   "metadata": {},
   "source": [
    "Here, we initiate the fusion step through the Status and Slope0 steps."
   ]
  },
  {
   "cell_type": "code",
   "execution_count": null,
   "id": "relevant-resort",
   "metadata": {},
   "outputs": [],
   "source": [
    "cfg = {\n",
    "    \"statistics\": {\n",
    "        \"classification_layers\": {\n",
    "             \"Status\": {\n",
    "                  \"type\": \"segmentation\",\n",
    "                  \"classes\": {\"no data\": [0],\"fields\": [1],\"cities\": [2], \"waters\": [3],\"forests\": [4]},\n",
    "             },\n",
    "             \"Slope0\": {\n",
    "                  \"type\": \"slope\",\n",
    "                  \"ranges\": [0, 25, 45, 65]\n",
    "             },\n",
    "             \"Fusion0\": {\n",
    "                 \"type\" : \"fusion\",\n",
    "                  \"ref\": [\"Slope0\", \"Status\"]\n",
    "             }\n",
    "        },\n",
    "    }\n",
    "}"
   ]
  },
  {
   "cell_type": "markdown",
   "id": "phantom-washer",
   "metadata": {},
   "source": [
    "Compute slope and add it as a classification_layer"
   ]
  },
  {
   "cell_type": "code",
   "execution_count": null,
   "id": "published-denver",
   "metadata": {},
   "outputs": [],
   "source": [
    "slope_dem = compute_dem_slope(dem)"
   ]
  },
  {
   "cell_type": "markdown",
   "id": "baking-cleaning",
   "metadata": {},
   "source": [
    "StatsPair.init will generate the segmentation classification layers on the new dem."
   ]
  },
  {
   "cell_type": "code",
   "execution_count": null,
   "id": "proper-china",
   "metadata": {},
   "outputs": [],
   "source": [
    "stats_processing_= StatsProcessing(cfg['statistics'], slope_dem)"
   ]
  },
  {
   "cell_type": "markdown",
   "id": "parallel-registration",
   "metadata": {},
   "source": [
    "Calculate metrics requested in the configuration and store the result in a StatsDataset object"
   ]
  },
  {
   "cell_type": "code",
   "execution_count": null,
   "id": "working-night",
   "metadata": {},
   "outputs": [],
   "source": [
    "stats_dataset = stats_processing_.compute_stats()"
   ]
  },
  {
   "cell_type": "markdown",
   "id": "stylish-hawaiian",
   "metadata": {},
   "source": [
    "The Fusion0 classification layer is now available."
   ]
  },
  {
   "cell_type": "code",
   "execution_count": null,
   "id": "tested-border",
   "metadata": {},
   "outputs": [],
   "source": [
    "stats_dataset.get_classification_layer_names()"
   ]
  },
  {
   "cell_type": "markdown",
   "id": "hispanic-swift",
   "metadata": {},
   "source": [
    "Here we can see the different classes available on the fusion classification. They are indeed a fusion between Status and Slope0's classes."
   ]
  },
  {
   "cell_type": "code",
   "execution_count": null,
   "id": "connected-defeat",
   "metadata": {},
   "outputs": [],
   "source": [
    "plot_layers(stats_processing_, 'ref', dem, 'Value by segmentation and slope fusion on DEM', 'Fusion0')"
   ]
  },
  {
   "cell_type": "markdown",
   "id": "tired-province",
   "metadata": {},
   "source": [
    "#### 1.3. More notions about getting metrics"
   ]
  },
  {
   "cell_type": "markdown",
   "id": "mineral-screen",
   "metadata": {},
   "source": [
    "We saw that the user can compute metrics thanks to the configuration dictionnary. But he can also use an API to compute the wanted metrics.  "
   ]
  },
  {
   "cell_type": "code",
   "execution_count": null,
   "id": "round-settle",
   "metadata": {},
   "outputs": [],
   "source": [
    "stats_dataset = stats_processing_.compute_stats(metrics = [\"max\"], classification_layer = ['Slope0'])"
   ]
  },
  {
   "cell_type": "code",
   "execution_count": null,
   "id": "interim-payroll",
   "metadata": {},
   "outputs": [],
   "source": [
    "max_by_class = stats_dataset.get_classification_layer_metric(\n",
    "            classification_layer=\"Slope0\", metric=\"max\"\n",
    "        )\n",
    "\n",
    "for cpt, i in enumerate(ranges_slope):\n",
    "    print(f\"Maximum for classe {ranges_slope[cpt]} is equal to {max_by_class[cpt]}\")"
   ]
  },
  {
   "cell_type": "markdown",
   "id": "mounted-picture",
   "metadata": {},
   "source": [
    "### 2. For two DEM\n",
    "\n",
    "We can also compute statistics in outputs of coregistration step or directly between two DEMs."
   ]
  },
  {
   "cell_type": "markdown",
   "id": "ranging-listening",
   "metadata": {},
   "source": [
    "Steps schema for two DEMs :\n",
    "<img src=\"img/stats_input_two_dems.png\" width=\"800\">"
   ]
  },
  {
   "cell_type": "markdown",
   "id": "diverse-disorder",
   "metadata": {},
   "source": [
    "We need to load two DEMs and we can add some classification layers."
   ]
  },
  {
   "cell_type": "code",
   "execution_count": null,
   "id": "accessible-kidney",
   "metadata": {},
   "outputs": [],
   "source": [
    "input_ref_config = {\n",
    "            \"path\" : \"data/grenoble/Copernicus_DSM_10_N45_00_E005_00_DEM.tif\",\n",
    "            \"zunit\" : \"m\",\n",
    "            \"georef\": \"WGS84\",\n",
    "            \"classification_layers\": {\n",
    "                \"Status\": {\"map_path\": \"data/grenoble/copernicus_status.tif\"}\n",
    "            }\n",
    "        }\n",
    "input_sec_config = {\n",
    "                    \"path\" : \"data/grenoble/Copernicus_blurred_and_shifted.tif\",\n",
    "                    \"zunit\" : \"m\",\n",
    "                    \"georef\": \"EPSG:32630\",\n",
    "                    \"nodata\" : -32768,\n",
    "                }"
   ]
  },
  {
   "cell_type": "markdown",
   "id": "annual-separation",
   "metadata": {},
   "source": [
    "Loading the DEMs"
   ]
  },
  {
   "cell_type": "code",
   "execution_count": null,
   "id": "latin-subscriber",
   "metadata": {},
   "outputs": [],
   "source": [
    "input_ref = load_dem(\n",
    "    path=input_ref_config[\"path\"], \n",
    "    zunit=input_ref_config[\"zunit\"],\n",
    "    classification_layers=input_ref_config[\"classification_layers\"]\n",
    ")\n",
    "\n",
    "input_sec = load_dem(\n",
    "    path=input_sec_config[\"path\"], \n",
    "    zunit=input_sec_config[\"zunit\"], \n",
    ")"
   ]
  },
  {
   "cell_type": "markdown",
   "id": "normal-ordinary",
   "metadata": {},
   "source": [
    "We can see that there are differences in terms of size and resolution. But there is also an offset between them."
   ]
  },
  {
   "cell_type": "code",
   "execution_count": null,
   "id": "infrared-democracy",
   "metadata": {},
   "outputs": [],
   "source": [
    "show(side_by_side_fig(input_ref, \n",
    "                 input_sec,\n",
    "                \"Reference DEM\", \n",
    "                \"Second DEM\"))"
   ]
  },
  {
   "cell_type": "markdown",
   "id": "downtown-ballet",
   "metadata": {},
   "source": [
    "##### 2.1. Prerequisites for statistics computation"
   ]
  },
  {
   "cell_type": "markdown",
   "id": "tamil-survivor",
   "metadata": {},
   "source": [
    "DEMs must have same size and resolution so we need to reproject them. "
   ]
  },
  {
   "cell_type": "code",
   "execution_count": null,
   "id": "convinced-expense",
   "metadata": {},
   "outputs": [],
   "source": [
    "from demcompare.dem_tools import reproject_dems\n",
    "reproj_sec, reproj_ref, _ = reproject_dems(input_sec, input_ref, sampling_source = \"ref\")"
   ]
  },
  {
   "cell_type": "markdown",
   "id": "experimental-wrapping",
   "metadata": {},
   "source": [
    "Computing the slope for both DEMs with `compute_dem_slope`"
   ]
  },
  {
   "cell_type": "code",
   "execution_count": null,
   "id": "imported-albania",
   "metadata": {},
   "outputs": [],
   "source": [
    "reproj_ref = compute_dem_slope(reproj_ref)\n",
    "reproj_sec = compute_dem_slope(reproj_sec)"
   ]
  },
  {
   "cell_type": "markdown",
   "id": "healthy-partner",
   "metadata": {},
   "source": [
    "Statistics must be computed on the altitude difference's DEM, which is computed with the function `compute_alti_diff_for_stats`"
   ]
  },
  {
   "cell_type": "code",
   "execution_count": null,
   "id": "light-beach",
   "metadata": {},
   "outputs": [],
   "source": [
    "from demcompare.dem_tools import compute_alti_diff_for_stats"
   ]
  },
  {
   "cell_type": "markdown",
   "id": "hawaiian-politics",
   "metadata": {},
   "source": [
    "Computing `compute_alti_diff_for_stats`"
   ]
  },
  {
   "cell_type": "code",
   "execution_count": null,
   "id": "computational-passion",
   "metadata": {},
   "outputs": [],
   "source": [
    "altitude_diff = compute_alti_diff_for_stats(reproj_ref, reproj_sec)"
   ]
  },
  {
   "cell_type": "code",
   "execution_count": null,
   "id": "geographic-amber",
   "metadata": {},
   "outputs": [],
   "source": [
    "show_dem(altitude_diff, \n",
    "         \"Altitude difference on reprojected DEM\")"
   ]
  },
  {
   "cell_type": "markdown",
   "id": "specific-japan",
   "metadata": {},
   "source": [
    "##### 2.2. Computing the stats on altitude_diff"
   ]
  },
  {
   "cell_type": "markdown",
   "id": "placed-friday",
   "metadata": {},
   "source": [
    "A configuration of statistical steps with segmentation, slope and fusion."
   ]
  },
  {
   "cell_type": "code",
   "execution_count": null,
   "id": "dimensional-revolution",
   "metadata": {},
   "outputs": [],
   "source": [
    "cfg = {\n",
    "    \"statistics\": {\n",
    "        \"classification_layers\": {\n",
    "             \"Status\": {\n",
    "                  \"type\": \"segmentation\",\n",
    "                  \"classes\": {\"no data\": [0],\"fields\": [1],\"cities\": [2], \"waters\": [3],\"forests\": [4]}\n",
    "             },\n",
    "             \"Slope0\": {\n",
    "                  \"type\": \"slope\",\n",
    "                  \"ranges\": [0, 25, 45, 65]\n",
    "             },\n",
    "             \"Fusion0\": {\n",
    "                \"type\" : \"fusion\",\n",
    "                  \"ref\": [\"Slope0\", \"Status\"]\n",
    "             }\n",
    "        },\n",
    "    }\n",
    "}"
   ]
  },
  {
   "cell_type": "markdown",
   "id": "metallic-apache",
   "metadata": {},
   "source": [
    "Create object from `StatsProcessing` with configuration and computed altitudes differences. If the input dem is an altitude difference the input_diff parameter is set to True. "
   ]
  },
  {
   "cell_type": "code",
   "execution_count": null,
   "id": "compliant-interest",
   "metadata": {},
   "outputs": [],
   "source": [
    "stats_processing_ = StatsProcessing(cfg['statistics'], altitude_diff, input_diff=True)"
   ]
  },
  {
   "cell_type": "markdown",
   "id": "reasonable-atlas",
   "metadata": {},
   "source": [
    "Calculate metrics requested in the configuration and store the result in a StatsDataset object"
   ]
  },
  {
   "cell_type": "code",
   "execution_count": null,
   "id": "controlled-cement",
   "metadata": {},
   "outputs": [],
   "source": [
    "stats_dataset = stats_processing_.compute_stats()"
   ]
  },
  {
   "cell_type": "markdown",
   "id": "sustainable-wilson",
   "metadata": {},
   "source": [
    "Get all available classification layers"
   ]
  },
  {
   "cell_type": "code",
   "execution_count": null,
   "id": "initial-finding",
   "metadata": {},
   "outputs": [],
   "source": [
    "stats_metrics = stats_dataset.get_classification_layer_names()\n",
    "print(stats_metrics)"
   ]
  },
  {
   "cell_type": "markdown",
   "id": "possible-observer",
   "metadata": {},
   "source": [
    "##### 2.3. Metrics in global classification for two DEM\n",
    "\n",
    "You can see that more default metrics are computed when two DEM are used in inputs, as some metrics only make sense when computed on a difference or an error DEM"
   ]
  },
  {
   "cell_type": "code",
   "execution_count": null,
   "id": "protected-amateur",
   "metadata": {},
   "outputs": [],
   "source": [
    "stats_metrics = stats_dataset.get_classification_layer_metrics(classification_layer=\"global\")\n",
    "print(stats_metrics)"
   ]
  },
  {
   "cell_type": "markdown",
   "id": "golden-detective",
   "metadata": {},
   "source": [
    "To get the metric's value use `get_classification_layer_metric`, the type of classification layer and the metric name must be mentioned as an argument."
   ]
  },
  {
   "cell_type": "markdown",
   "id": "natural-assistant",
   "metadata": {},
   "source": [
    "If the input dem is an altitude difference the RMSE and the NMAD scalar metrics are measured."
   ]
  },
  {
   "cell_type": "code",
   "execution_count": null,
   "id": "cathedral-pastor",
   "metadata": {},
   "outputs": [],
   "source": [
    "list_metrics = [[\"Metric's name\", \"Measured metrics\"]]\n",
    "for metric in stats_metrics: \n",
    "    value = stats_dataset.get_classification_layer_metric(classification_layer=\"global\", metric=metric)\n",
    "    list_metrics.append([metric, value[0]])\n",
    "    \n",
    "display(HTML(tabulate.tabulate(list_metrics, tablefmt='html')))"
   ]
  },
  {
   "cell_type": "markdown",
   "id": "willing-notification",
   "metadata": {},
   "source": [
    "##### 2.3.1. Global vector metrics"
   ]
  },
  {
   "cell_type": "markdown",
   "id": "under-force",
   "metadata": {},
   "source": [
    "Demcompare computes by default only scalar metrics for the global layer. But demcompare can also generate vector metrics such as cdf, pdf or ratio_above_threshold if specified in the configuration or the API"
   ]
  },
  {
   "cell_type": "markdown",
   "id": "collectible-elder",
   "metadata": {},
   "source": [
    "We can directly compute them by adding them to the compute_stats function."
   ]
  },
  {
   "cell_type": "code",
   "execution_count": null,
   "id": "democratic-remark",
   "metadata": {},
   "outputs": [],
   "source": [
    "stats_dataset = stats_processing_.compute_stats(metrics = [\"cdf\", \n",
    "                                                        \"pdf\", \n",
    "                                                        {\"ratio_above_threshold\":{\"elevation_threshold\": [10,20,30]}}])"
   ]
  },
  {
   "cell_type": "markdown",
   "id": "biological-object",
   "metadata": {},
   "source": [
    "You can see that these new vector metrics are now available."
   ]
  },
  {
   "cell_type": "code",
   "execution_count": null,
   "id": "trained-cable",
   "metadata": {},
   "outputs": [],
   "source": [
    "stats_metrics = stats_dataset.get_classification_layer_metrics(classification_layer=\"global\")\n",
    "print(stats_metrics)"
   ]
  },
  {
   "cell_type": "markdown",
   "id": "fresh-government",
   "metadata": {},
   "source": [
    "Get cdf value"
   ]
  },
  {
   "cell_type": "code",
   "execution_count": null,
   "id": "significant-therapy",
   "metadata": {},
   "outputs": [],
   "source": [
    "cdf = stats_dataset.get_classification_layer_metric(classification_layer = 'global', metric=\"cdf\")"
   ]
  },
  {
   "cell_type": "markdown",
   "id": "suburban-duration",
   "metadata": {},
   "source": [
    "Plot cdf"
   ]
  },
  {
   "cell_type": "code",
   "execution_count": null,
   "id": "systematic-literacy",
   "metadata": {},
   "outputs": [],
   "source": [
    "plot_cdf_pdf(cdf, \"cdf\")"
   ]
  },
  {
   "cell_type": "markdown",
   "id": "painted-weapon",
   "metadata": {},
   "source": [
    "Get pdf"
   ]
  },
  {
   "cell_type": "code",
   "execution_count": null,
   "id": "antique-minimum",
   "metadata": {},
   "outputs": [],
   "source": [
    "pdf = stats_dataset.get_classification_layer_metric(classification_layer = 'global', metric=\"pdf\")"
   ]
  },
  {
   "cell_type": "markdown",
   "id": "focal-insurance",
   "metadata": {},
   "source": [
    "Plot pdf"
   ]
  },
  {
   "cell_type": "code",
   "execution_count": null,
   "id": "considered-rapid",
   "metadata": {},
   "outputs": [],
   "source": [
    "plot_cdf_pdf(pdf, \"pdf\")"
   ]
  },
  {
   "cell_type": "markdown",
   "id": "brilliant-intelligence",
   "metadata": {},
   "source": [
    "Get the pourcentage of pixel above altitude threshold (ratio_above_threshold)"
   ]
  },
  {
   "cell_type": "code",
   "execution_count": null,
   "id": "native-celebrity",
   "metadata": {},
   "outputs": [],
   "source": [
    "rat = stats_dataset.get_classification_layer_metric(classification_layer=\"global\", metric=\"ratio_above_threshold\")"
   ]
  },
  {
   "cell_type": "markdown",
   "id": "burning-training",
   "metadata": {},
   "source": [
    "Plot ratio_above_treshold"
   ]
  },
  {
   "cell_type": "code",
   "execution_count": null,
   "id": "final-layout",
   "metadata": {},
   "outputs": [],
   "source": [
    "plot_ratio_above_threshold(rat, \"Ratio above threshold\")"
   ]
  },
  {
   "cell_type": "markdown",
   "id": "paperback-thinking",
   "metadata": {},
   "source": [
    "##### 2.3.2. Computing the slope on computed altitudes differences"
   ]
  },
  {
   "cell_type": "markdown",
   "id": "e37a3e32",
   "metadata": {},
   "source": [
    "It is to be noticed that if two DEMs are defined as inputs, then the slope will be computed on both input DEMs separately, and not in the difference between both."
   ]
  },
  {
   "cell_type": "code",
   "execution_count": null,
   "id": "productive-dubai",
   "metadata": {},
   "outputs": [],
   "source": [
    "plot_layers(stats_processing_, 'ref', altitude_diff, 'Slope layers on altitude diff', 'Slope0')"
   ]
  },
  {
   "cell_type": "markdown",
   "id": "golden-jacket",
   "metadata": {},
   "source": [
    "#### 2.3.3. Computing the segmentation on computed altitudes differences"
   ]
  },
  {
   "cell_type": "code",
   "execution_count": null,
   "id": "brazilian-hebrew",
   "metadata": {},
   "outputs": [],
   "source": [
    "plot_layers(stats_processing_, 'ref', altitude_diff, 'Segmentation layers on altitude diff', 'Status')"
   ]
  },
  {
   "cell_type": "markdown",
   "id": "suited-internship",
   "metadata": {},
   "source": [
    "#### 2.3.4. Fusion"
   ]
  },
  {
   "cell_type": "code",
   "execution_count": null,
   "id": "multiple-mistress",
   "metadata": {},
   "outputs": [],
   "source": [
    "plot_layers(stats_processing_, 'ref', altitude_diff, 'Fusion from segmentation and slope on altitude diff', 'Fusion0')"
   ]
  },
  {
   "cell_type": "markdown",
   "id": "understanding-atlas",
   "metadata": {},
   "source": [
    "#### 3. The cross classification and the modes\n",
    "\n",
    "As shown in previous section, demcompare will classify stats according to classification layers and classification layer masks. Whenever a classification layer is given for both DEMs, then it can be possible to observe the metrics for pixels whose classification (segmentation for example) is the same between both DEM or not. These observations are available through what we call mode\n",
    "\n",
    "Three mode are available : \n",
    "* standard : Within this mode all valid pixels are considered. \n",
    "* intersection and exclusion : These modes are only available if both DEMs (ref and sec) where classified by the same classification layer.\n",
    "    * intersection :  is the standard mode where only the pixels sharing the same label for both DEMs classification layers are kept.\n",
    "    * exclusion : is the intersection one complementary"
   ]
  },
  {
   "cell_type": "markdown",
   "id": "aerial-poster",
   "metadata": {},
   "source": [
    "For instance, the user can get mean metric results for slope layer and mode intersection"
   ]
  },
  {
   "cell_type": "code",
   "execution_count": null,
   "id": "extraordinary-consensus",
   "metadata": {},
   "outputs": [],
   "source": [
    "mean = stats_dataset.get_classification_layer_metric(\n",
    "            classification_layer=\"Slope0\", metric=\"mean\", mode=\"intersection\"\n",
    "        )\n",
    "for cpt, i in enumerate(ranges_slope):\n",
    "    print(f\"In intersection mode mean for classe {ranges_slope[cpt]} is equal to {mean[cpt]}\")"
   ]
  }
 ],
 "metadata": {
  "kernelspec": {
   "display_name": "dem env",
   "language": "python",
   "name": "venv"
  },
  "language_info": {
   "codemirror_mode": {
    "name": "ipython",
    "version": 3
   },
   "file_extension": ".py",
   "mimetype": "text/x-python",
   "name": "python",
   "nbconvert_exporter": "python",
   "pygments_lexer": "ipython3",
   "version": "3.8.15"
  }
 },
 "nbformat": 4,
 "nbformat_minor": 5
}
