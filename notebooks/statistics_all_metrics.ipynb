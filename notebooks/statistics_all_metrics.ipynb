{
 "cells": [
  {
   "cell_type": "markdown",
   "id": "italian-fight",
   "metadata": {},
   "source": [
    "<img src=\"img/logo_demcompare.png\" width=\"100\" align=\"right\">\n",
    "\n",
    "# Demcompare: statistics tutorial with all metrics"
   ]
  },
  {
   "cell_type": "markdown",
   "id": "driven-consolidation",
   "metadata": {},
   "source": [
    "This notebook presents how to use all the metrics defined in demcompare.\n",
    "The goal is to compare two DEMs together."
   ]
  },
  {
   "cell_type": "markdown",
   "id": "regulation-brand",
   "metadata": {},
   "source": [
    "## Imports and external functions"
   ]
  },
  {
   "cell_type": "code",
   "execution_count": null,
   "id": "elementary-patent",
   "metadata": {},
   "outputs": [],
   "source": [
    "import pyproj # pyproj as first import is necessary"
   ]
  },
  {
   "cell_type": "code",
   "execution_count": null,
   "id": "center-angle",
   "metadata": {},
   "outputs": [],
   "source": [
    "from snippets.utils_notebook import *"
   ]
  },
  {
   "cell_type": "code",
   "execution_count": null,
   "id": "lasting-refrigerator",
   "metadata": {},
   "outputs": [],
   "source": [
    "from IPython.display import HTML, display\n",
    "import tabulate"
   ]
  },
  {
   "cell_type": "markdown",
   "id": "mounted-picture",
   "metadata": {},
   "source": [
    "### 1. Comparing two DEMs"
   ]
  },
  {
   "cell_type": "markdown",
   "id": "diverse-disorder",
   "metadata": {},
   "source": [
    "We need to load the two DEMs."
   ]
  },
  {
   "cell_type": "code",
   "execution_count": null,
   "id": "83c2e327",
   "metadata": {},
   "outputs": [],
   "source": [
    "from demcompare.dem_tools import load_dem"
   ]
  },
  {
   "cell_type": "code",
   "execution_count": null,
   "id": "accessible-kidney",
   "metadata": {},
   "outputs": [],
   "source": [
    "input_ref_config = {\n",
    "            \"path\" : \"data/grenoble/Copernicus_DSM_10_N45_00_E005_00_DEM.tif\",\n",
    "            \"zunit\" : \"m\",\n",
    "            \"georef\": \"WGS84\",\n",
    "            \"classification_layers\": {\n",
    "                \"Status\": {\"map_path\": \"data/grenoble/copernicus_status.tif\"}\n",
    "            }\n",
    "        }\n",
    "input_sec_config = {\n",
    "            \"path\" : \"data/grenoble/Copernicus_blurred_and_shifted.tif\",\n",
    "            \"zunit\" : \"m\",\n",
    "            \"georef\": \"EPSG:32630\",\n",
    "            \"nodata\" : -32768,\n",
    "        }"
   ]
  },
  {
   "cell_type": "markdown",
   "id": "annual-separation",
   "metadata": {},
   "source": [
    "Loading the DEMs"
   ]
  },
  {
   "cell_type": "code",
   "execution_count": null,
   "id": "latin-subscriber",
   "metadata": {},
   "outputs": [],
   "source": [
    "input_ref = load_dem(\n",
    "    path=input_ref_config[\"path\"], \n",
    "    zunit=input_ref_config[\"zunit\"],\n",
    "    classification_layers=input_ref_config[\"classification_layers\"]\n",
    ")\n",
    "\n",
    "input_sec = load_dem(\n",
    "    path=input_sec_config[\"path\"], \n",
    "    zunit=input_sec_config[\"zunit\"], \n",
    ")"
   ]
  },
  {
   "cell_type": "markdown",
   "id": "normal-ordinary",
   "metadata": {},
   "source": [
    "We can see that there are differences in terms of size and resolution. But there is also an offset between them."
   ]
  },
  {
   "cell_type": "code",
   "execution_count": null,
   "id": "infrared-democracy",
   "metadata": {},
   "outputs": [],
   "source": [
    "show(side_by_side_fig(input_ref, \n",
    "                 input_sec,\n",
    "                \"Reference DEM\", \n",
    "                \"Second DEM\"))"
   ]
  },
  {
   "cell_type": "markdown",
   "id": "tamil-survivor",
   "metadata": {},
   "source": [
    "DEMs must have same size and resolution so we need to reproject them. "
   ]
  },
  {
   "cell_type": "code",
   "execution_count": null,
   "id": "convinced-expense",
   "metadata": {},
   "outputs": [],
   "source": [
    "from demcompare.dem_tools import reproject_dems\n",
    "reproj_sec, reproj_ref, _ = reproject_dems(input_sec, input_ref, sampling_source = \"ref\")"
   ]
  },
  {
   "cell_type": "markdown",
   "id": "experimental-wrapping",
   "metadata": {},
   "source": [
    "Computing the slope for both DEMs with `compute_dem_slope`. The slope will be used to compute metrics."
   ]
  },
  {
   "cell_type": "code",
   "execution_count": null,
   "id": "1be8bd70",
   "metadata": {},
   "outputs": [],
   "source": [
    "from demcompare.dem_tools import compute_dem_slope"
   ]
  },
  {
   "cell_type": "code",
   "execution_count": null,
   "id": "imported-albania",
   "metadata": {},
   "outputs": [],
   "source": [
    "reproj_ref = compute_dem_slope(reproj_ref)\n",
    "reproj_sec = compute_dem_slope(reproj_sec)"
   ]
  },
  {
   "cell_type": "markdown",
   "id": "cbfc8e0b",
   "metadata": {},
   "source": [
    "### 1.1 Comparing the two DEMs independently\n",
    "\n",
    "In this section, we compare the 2 DEMs independently, i.e. compute statistics and produce plots for each of them indivdually"
   ]
  },
  {
   "cell_type": "markdown",
   "id": "84eacfda",
   "metadata": {},
   "source": [
    "Import `DemProcessing`"
   ]
  },
  {
   "cell_type": "code",
   "execution_count": null,
   "id": "light-beach",
   "metadata": {},
   "outputs": [],
   "source": [
    "from demcompare.dem_processing import DemProcessing"
   ]
  },
  {
   "cell_type": "markdown",
   "id": "8ca0ff18",
   "metadata": {},
   "source": [
    "With `DemProcessing`, compute the curvature of the two DEMs, independently"
   ]
  },
  {
   "cell_type": "code",
   "execution_count": null,
   "id": "539cfed3",
   "metadata": {},
   "outputs": [],
   "source": [
    "dem_processing_object_ref_curvature = DemProcessing(\"ref-curvature\")\n",
    "ref_curvature = dem_processing_object_ref_curvature.process_dem(reproj_ref, reproj_sec)\n",
    "dem_processing_object_sec_curvature = DemProcessing(\"sec-curvature\")\n",
    "sec_curvature = dem_processing_object_sec_curvature.process_dem(reproj_ref, reproj_sec)"
   ]
  },
  {
   "cell_type": "markdown",
   "id": "5d905cc9",
   "metadata": {},
   "source": [
    "Show the curvature of the two DEMs side-by-side"
   ]
  },
  {
   "cell_type": "code",
   "execution_count": null,
   "id": "79b99301",
   "metadata": {},
   "outputs": [],
   "source": [
    "show(side_by_side_fig(ref_curvature, \n",
    "                sec_curvature,\n",
    "                \"Reference DEM Curvature\", \n",
    "                \"Second DEM Curvature\"))"
   ]
  },
  {
   "cell_type": "markdown",
   "id": "acd3cd68",
   "metadata": {},
   "source": [
    "Create a dictonnary with a `statistics` section, and the `global` classification layer inside.\n",
    "We won't use other classifications layers here, but it is possible."
   ]
  },
  {
   "cell_type": "code",
   "execution_count": null,
   "id": "2522b717",
   "metadata": {},
   "outputs": [],
   "source": [
    "cfg = {\n",
    "    \"statistics\": {\n",
    "        \"global\": {\n",
    "        }\n",
    "    }\n",
    "}"
   ]
  },
  {
   "cell_type": "markdown",
   "id": "f42436b3",
   "metadata": {},
   "source": [
    "Import `StatsProcessing` in order to be able to produce statistics."
   ]
  },
  {
   "cell_type": "code",
   "execution_count": null,
   "id": "865cbf8c",
   "metadata": {},
   "outputs": [],
   "source": [
    "from demcompare.stats_processing import StatsProcessing"
   ]
  },
  {
   "cell_type": "markdown",
   "id": "3c9f325c",
   "metadata": {},
   "source": [
    "Create a `stats_processing_` object for the two DEMs independently."
   ]
  },
  {
   "cell_type": "code",
   "execution_count": null,
   "id": "586e13a7",
   "metadata": {},
   "outputs": [],
   "source": [
    "stats_processing_ref = StatsProcessing(cfg['statistics'], reproj_ref)\n",
    "stats_processing_sec = StatsProcessing(cfg['statistics'], reproj_sec)"
   ]
  },
  {
   "cell_type": "markdown",
   "id": "a5d72df4",
   "metadata": {},
   "source": [
    "Compute statistics for the two DEMs independently.\n",
    "The statistics computed here are:\n",
    "- `slope-orientation-histogram`\n",
    "- `hillshade`\n",
    "- `svf`"
   ]
  },
  {
   "cell_type": "code",
   "execution_count": null,
   "id": "8d9ac8af",
   "metadata": {},
   "outputs": [],
   "source": [
    "%%capture\n",
    "stats_dataset_ref = stats_processing_ref.compute_stats(metrics = [\"slope-orientation-histogram\", \"hillshade\", \"svf\"])\n",
    "stats_dataset_sec = stats_processing_sec.compute_stats(metrics = [\"slope-orientation-histogram\", \"hillshade\", \"svf\"])"
   ]
  },
  {
   "cell_type": "markdown",
   "id": "42b7319c",
   "metadata": {},
   "source": [
    "Get the `slope_orientation_histogram`s for the two DEMs independently"
   ]
  },
  {
   "cell_type": "code",
   "execution_count": null,
   "id": "95cd54b1",
   "metadata": {},
   "outputs": [],
   "source": [
    "slope_orientation_histogram_ref = stats_dataset_ref.get_classification_layer_metric(classification_layer = 'global', metric=\"slope-orientation-histogram\", classif_class=0)\n",
    "slope_orientation_histogram_sec = stats_dataset_sec.get_classification_layer_metric(classification_layer = 'global', metric=\"slope-orientation-histogram\", classif_class=0)"
   ]
  },
  {
   "cell_type": "markdown",
   "id": "5af4920d",
   "metadata": {},
   "source": [
    "Plot the `slope_orientation_histogram`s on the same figure"
   ]
  },
  {
   "cell_type": "code",
   "execution_count": null,
   "id": "23a8ce04",
   "metadata": {},
   "outputs": [],
   "source": [
    "plot_slope_orientation_histogram(slope_orientation_histogram_ref, slope_orientation_histogram_sec, \"Reference DEM\", \"Secondary DEM\")"
   ]
  },
  {
   "cell_type": "markdown",
   "id": "e22003b0",
   "metadata": {},
   "source": [
    "Get the `hillshade` for the two DEMs independently"
   ]
  },
  {
   "cell_type": "code",
   "execution_count": null,
   "id": "42d715f5",
   "metadata": {},
   "outputs": [],
   "source": [
    "hillshade_ref = stats_dataset_ref.get_classification_layer_metric(classification_layer = 'global', metric=\"hillshade\", classif_class=0)\n",
    "hillshade_sec = stats_dataset_sec.get_classification_layer_metric(classification_layer = 'global', metric=\"hillshade\", classif_class=0)"
   ]
  },
  {
   "cell_type": "markdown",
   "id": "09c0d6f6",
   "metadata": {},
   "source": [
    "Plot the `hillshade`s side-by-side"
   ]
  },
  {
   "cell_type": "code",
   "execution_count": null,
   "id": "cc26c77c",
   "metadata": {},
   "outputs": [],
   "source": [
    "show(side_by_side_fig(hillshade_ref, \n",
    "                hillshade_sec,\n",
    "                \"Reference DEM Hill shade\", \n",
    "                \"Second DEM Hill shade\"))"
   ]
  },
  {
   "cell_type": "markdown",
   "id": "eff0b83f",
   "metadata": {},
   "source": [
    "Get the `svf` for the two DEMs independently"
   ]
  },
  {
   "cell_type": "code",
   "execution_count": null,
   "id": "41052b21",
   "metadata": {},
   "outputs": [],
   "source": [
    "svf_ref = stats_dataset_ref.get_classification_layer_metric(classification_layer = 'global', metric=\"svf\", classif_class=0)\n",
    "svf_sec = stats_dataset_sec.get_classification_layer_metric(classification_layer = 'global', metric=\"svf\", classif_class=0)"
   ]
  },
  {
   "cell_type": "markdown",
   "id": "5f0a564f",
   "metadata": {},
   "source": [
    "Plot the `svf`s side-by-side"
   ]
  },
  {
   "cell_type": "code",
   "execution_count": null,
   "id": "3cf8362b",
   "metadata": {},
   "outputs": [],
   "source": [
    "show(side_by_side_fig(svf_ref, \n",
    "                svf_sec,\n",
    "                \"Reference DEM Sky view factor\", \n",
    "                \"Second DEM Sky view factor\"))"
   ]
  },
  {
   "cell_type": "markdown",
   "id": "6d4509e2",
   "metadata": {},
   "source": [
    "### 1.2 Comparing the 2 DEMs together\n",
    "\n",
    "In this section, we compare the 2 DEMs together, i.e. compute statistics and produce plots for their difference"
   ]
  },
  {
   "cell_type": "markdown",
   "id": "0ff94a39",
   "metadata": {},
   "source": [
    "With `DemProcessing`, compute the difference in altitude bewteen the two DEMs"
   ]
  },
  {
   "cell_type": "code",
   "execution_count": null,
   "id": "58182b75",
   "metadata": {},
   "outputs": [],
   "source": [
    "dem_processing_object_alti_diff = DemProcessing(\"alti-diff\")\n",
    "altitude_diff = dem_processing_object_alti_diff.process_dem(reproj_ref, reproj_sec)"
   ]
  },
  {
   "cell_type": "markdown",
   "id": "24a71e03",
   "metadata": {},
   "source": [
    "With `DemProcessing`, compute the difference in altitude bewteen the two DEMs, and normalize it by the slope"
   ]
  },
  {
   "cell_type": "code",
   "execution_count": null,
   "id": "d5af91d3",
   "metadata": {},
   "outputs": [],
   "source": [
    "dem_processing_object_alti_diff_slope_norm = DemProcessing(\"alti-diff-slope-norm\")\n",
    "altitude_diff_slope_norm = dem_processing_object_alti_diff_slope_norm.process_dem(reproj_ref, reproj_sec)"
   ]
  },
  {
   "cell_type": "markdown",
   "id": "bdf1b3dc",
   "metadata": {},
   "source": [
    "Show the difference in altitude, and the difference in altitude normalized by the slope side-by-side"
   ]
  },
  {
   "cell_type": "code",
   "execution_count": null,
   "id": "9c7429cf",
   "metadata": {},
   "outputs": [],
   "source": [
    "show(side_by_side_fig(altitude_diff, \n",
    "                altitude_diff_slope_norm,\n",
    "                \"Elevation difference\", \n",
    "                \"Elevation difference normalized by the slope\"))"
   ]
  },
  {
   "cell_type": "markdown",
   "id": "ee323c19",
   "metadata": {},
   "source": [
    "With `DemProcessing`, compute the angular difference between the two DEMs"
   ]
  },
  {
   "cell_type": "code",
   "execution_count": null,
   "id": "c18ac1d6",
   "metadata": {},
   "outputs": [],
   "source": [
    "dem_processing_object_angular_diff = DemProcessing(\"angular-diff\")\n",
    "angular_diff = dem_processing_object_angular_diff.process_dem(reproj_ref, reproj_sec)"
   ]
  },
  {
   "cell_type": "markdown",
   "id": "16cb5a14",
   "metadata": {},
   "source": [
    "Show the angular difference"
   ]
  },
  {
   "cell_type": "code",
   "execution_count": null,
   "id": "471573f6",
   "metadata": {},
   "outputs": [],
   "source": [
    "show_dem(angular_diff,  \n",
    "         \"Angular difference\")"
   ]
  }
 ],
 "metadata": {
  "kernelspec": {
   "display_name": "venv",
   "language": "python",
   "name": "python3"
  },
  "language_info": {
   "codemirror_mode": {
    "name": "ipython",
    "version": 3
   },
   "file_extension": ".py",
   "mimetype": "text/x-python",
   "name": "python",
   "nbconvert_exporter": "python",
   "pygments_lexer": "ipython3",
   "version": "3.8.10"
  }
 },
 "nbformat": 4,
 "nbformat_minor": 5
}
